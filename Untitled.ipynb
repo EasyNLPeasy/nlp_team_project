{
 "cells": [
  {
   "cell_type": "code",
   "execution_count": 7,
   "id": "7085bf48-0014-4b19-acbf-676be6cf8abb",
   "metadata": {},
   "outputs": [
    {
     "name": "stdout",
     "output_type": "stream",
     "text": [
      "                                                  url language  \\\n",
      "0   https://github.com/login?return_to=%2Fimartine...   Python   \n",
      "1   https://github.com/login?return_to=%2Fpengzhil...   Python   \n",
      "2   https://github.com/login?return_to=%2Fopenai%2...   Python   \n",
      "3   https://github.com/login?return_to=%2Fopenai%2...   Python   \n",
      "4   https://github.com/login?return_to=%2FGioman10...   Python   \n",
      "5   https://github.com/login?return_to=%2FBing-su%...   Python   \n",
      "6   https://github.com/login?return_to=%2Fgeohot%2...   Python   \n",
      "7   https://github.com/login?return_to=%2Facheong0...   Python   \n",
      "8   https://github.com/login?return_to=%2FAUTOMATI...   Python   \n",
      "9   https://github.com/login?return_to=%2Fytdl-org...   Python   \n",
      "10  https://github.com/login?return_to=%2FGFW-knoc...   Python   \n",
      "11  https://github.com/login?return_to=%2Fcontinue...   Python   \n",
      "12  https://github.com/login?return_to=%2Fh2oai%2F...   Python   \n",
      "13  https://github.com/login?return_to=%2Funifyai%...   Python   \n",
      "14  https://github.com/login?return_to=%2Fmagicswo...   Python   \n",
      "15  https://github.com/login?return_to=%2Fkuleshov...   Python   \n",
      "16  https://github.com/login?return_to=%2Fpublic-a...   Python   \n",
      "17  https://github.com/login?return_to=%2FDocta-ai...   Python   \n",
      "18  https://github.com/login?return_to=%2Fyxlllc%2...   Python   \n",
      "19  https://github.com/login?return_to=%2FMikubill...   Python   \n",
      "20                 https://github.com/sponsors/kholia   Python   \n",
      "21  https://github.com/login?return_to=%2FIceClear...   Python   \n",
      "22  https://github.com/login?return_to=%2FJ3ldo%2F...   Python   \n",
      "23  https://github.com/login?return_to=%2Fcsunny%2...   Python   \n",
      "24  https://github.com/login?return_to=%2Fwidgetti...   Python   \n",
      "\n",
      "                                               readme  \n",
      "0   b'\\n\\n\\n\\n\\n\\n<!DOCTYPE html>\\n<html lang=\"en\"...  \n",
      "1   b'\\n\\n\\n\\n\\n\\n<!DOCTYPE html>\\n<html lang=\"en\"...  \n",
      "2   b'\\n\\n\\n\\n\\n\\n<!DOCTYPE html>\\n<html lang=\"en\"...  \n",
      "3   b'\\n\\n\\n\\n\\n\\n<!DOCTYPE html>\\n<html lang=\"en\"...  \n",
      "4   b'\\n\\n\\n\\n\\n\\n<!DOCTYPE html>\\n<html lang=\"en\"...  \n",
      "5   b'\\n\\n\\n\\n\\n\\n<!DOCTYPE html>\\n<html lang=\"en\"...  \n",
      "6   b'\\n\\n\\n\\n\\n\\n<!DOCTYPE html>\\n<html lang=\"en\"...  \n",
      "7   b'\\n\\n\\n\\n\\n\\n<!DOCTYPE html>\\n<html lang=\"en\"...  \n",
      "8   b'\\n\\n\\n\\n\\n\\n<!DOCTYPE html>\\n<html lang=\"en\"...  \n",
      "9   b'\\n\\n\\n\\n\\n\\n<!DOCTYPE html>\\n<html lang=\"en\"...  \n",
      "10  b'\\n\\n\\n\\n\\n\\n<!DOCTYPE html>\\n<html lang=\"en\"...  \n",
      "11  b'\\n\\n\\n\\n\\n\\n<!DOCTYPE html>\\n<html lang=\"en\"...  \n",
      "12  b'\\n\\n\\n\\n\\n\\n<!DOCTYPE html>\\n<html lang=\"en\"...  \n",
      "13  b'\\n\\n\\n\\n\\n\\n<!DOCTYPE html>\\n<html lang=\"en\"...  \n",
      "14  b'\\n\\n\\n\\n\\n\\n<!DOCTYPE html>\\n<html lang=\"en\"...  \n",
      "15  b'\\n\\n\\n\\n\\n\\n<!DOCTYPE html>\\n<html lang=\"en\"...  \n",
      "16  b'\\n\\n\\n\\n\\n\\n<!DOCTYPE html>\\n<html lang=\"en\"...  \n",
      "17  b'\\n\\n\\n\\n\\n\\n<!DOCTYPE html>\\n<html lang=\"en\"...  \n",
      "18  b'\\n\\n\\n\\n\\n\\n<!DOCTYPE html>\\n<html lang=\"en\"...  \n",
      "19  b'\\n\\n\\n\\n\\n\\n<!DOCTYPE html>\\n<html lang=\"en\"...  \n",
      "20                                                     \n",
      "21  b'\\n\\n\\n\\n\\n\\n<!DOCTYPE html>\\n<html lang=\"en\"...  \n",
      "22  b'\\n\\n\\n\\n\\n\\n<!DOCTYPE html>\\n<html lang=\"en\"...  \n",
      "23  b'\\n\\n\\n\\n\\n\\n<!DOCTYPE html>\\n<html lang=\"en\"...  \n",
      "24  b'\\n\\n\\n\\n\\n\\n<!DOCTYPE html>\\n<html lang=\"en\"...  \n"
     ]
    }
   ],
   "source": [
    "import requests\n",
    "import pandas as pd\n",
    "from bs4 import BeautifulSoup\n",
    "\n",
    "# define the URL of the GitHub trending page for Python repositories\n",
    "url = 'https://github.com/trending/python?since=daily'\n",
    "\n",
    "# send a GET request to the URL and parse the HTML content using BeautifulSoup\n",
    "response = requests.get(url)\n",
    "soup = BeautifulSoup(response.content, 'html.parser')\n",
    "\n",
    "# find all the repository cards on the page\n",
    "repos = soup.find_all('article', {'class': 'Box-row'})\n",
    "\n",
    "# create lists to store the repository data\n",
    "urls = []\n",
    "languages = []\n",
    "readmes = []\n",
    "\n",
    "# loop through each repository card and extract the data we need\n",
    "for repo in repos:\n",
    "    # get the repository URL\n",
    "    url = 'https://github.com' + repo.find_all('a')[0]['href']\n",
    "    urls.append(url)\n",
    "    \n",
    "    # get the most used programming language in the repository\n",
    "    lang = repo.find_all('span', {'itemprop': 'programmingLanguage'})[0].text.strip()\n",
    "    languages.append(lang)\n",
    "    \n",
    "    # get the text of the README file and decode it to Unicode text\n",
    "    readme_url = url + '/blob/master/README.md'\n",
    "    readme_response = requests.get(readme_url)\n",
    "    if readme_response.status_code == 200:\n",
    "        readme = readme_response.content\n",
    "    else:\n",
    "        readme = ''\n",
    "    readmes.append(readme)\n",
    "\n",
    "# create a pandas dataframe from the repository data\n",
    "df = pd.DataFrame({'url': urls, 'language': languages, 'readme': readmes})\n",
    "\n",
    "# print the dataframe\n",
    "print(df)\n"
   ]
  },
  {
   "cell_type": "code",
   "execution_count": 8,
   "id": "45d79c8c-54e0-4cf1-8f22-d785e54a14b9",
   "metadata": {},
   "outputs": [
    {
     "name": "stdout",
     "output_type": "stream",
     "text": [
      "<class 'pandas.core.frame.DataFrame'>\n",
      "RangeIndex: 25 entries, 0 to 24\n",
      "Data columns (total 3 columns):\n",
      " #   Column    Non-Null Count  Dtype \n",
      "---  ------    --------------  ----- \n",
      " 0   url       25 non-null     object\n",
      " 1   language  25 non-null     object\n",
      " 2   readme    25 non-null     object\n",
      "dtypes: object(3)\n",
      "memory usage: 728.0+ bytes\n"
     ]
    }
   ],
   "source": [
    "df.info()"
   ]
  },
  {
   "cell_type": "code",
   "execution_count": 5,
   "id": "5b26ead2-8524-4059-9530-9749cbb27bfd",
   "metadata": {},
   "outputs": [],
   "source": [
    "df.readme[0]"
   ]
  },
  {
   "cell_type": "code",
   "execution_count": 6,
   "id": "6ce2b445-5d55-4a05-aa79-bfbb2bc3c83b",
   "metadata": {},
   "outputs": [
    {
     "ename": "TypeError",
     "evalue": "'NoneType' object is not callable",
     "output_type": "error",
     "traceback": [
      "\u001b[0;31m---------------------------------------------------------------------------\u001b[0m",
      "\u001b[0;31mTypeError\u001b[0m                                 Traceback (most recent call last)",
      "Input \u001b[0;32mIn [6]\u001b[0m, in \u001b[0;36m<cell line: 1>\u001b[0;34m()\u001b[0m\n\u001b[0;32m----> 1\u001b[0m \u001b[43msoup\u001b[49m\u001b[38;5;241;43m.\u001b[39;49m\u001b[43mcontent\u001b[49m\u001b[43m(\u001b[49m\u001b[43m)\u001b[49m\n",
      "\u001b[0;31mTypeError\u001b[0m: 'NoneType' object is not callable"
     ]
    }
   ],
   "source": [
    "soup.content()"
   ]
  }
 ],
 "metadata": {
  "kernelspec": {
   "display_name": "Python 3 (ipykernel)",
   "language": "python",
   "name": "python3"
  },
  "language_info": {
   "codemirror_mode": {
    "name": "ipython",
    "version": 3
   },
   "file_extension": ".py",
   "mimetype": "text/x-python",
   "name": "python",
   "nbconvert_exporter": "python",
   "pygments_lexer": "ipython3",
   "version": "3.9.13"
  }
 },
 "nbformat": 4,
 "nbformat_minor": 5
}
