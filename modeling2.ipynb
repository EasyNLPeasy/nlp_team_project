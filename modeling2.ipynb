{
 "cells": [
  {
   "cell_type": "markdown",
   "id": "a2a4bdb9-a1bd-4ed9-8458-c1613fa6b381",
   "metadata": {},
   "source": [
    "# NLP Project: Modeling 2"
   ]
  },
  {
   "cell_type": "code",
   "execution_count": 1,
   "id": "ae4eeef7-5294-4212-b1fa-8ca76fd48a3c",
   "metadata": {},
   "outputs": [],
   "source": [
    "# general imports\n",
    "import numpy as np\n",
    "import pandas as pd\n",
    "import itertools\n",
    "\n",
    "# visualization\n",
    "import matplotlib.pyplot as plt\n",
    "import seaborn as sns\n",
    "\n",
    "# classification tools\n",
    "from sklearn.tree import DecisionTreeClassifier, export_text, plot_tree\n",
    "from sklearn.ensemble import RandomForestClassifier\n",
    "from sklearn.neighbors import KNeighborsClassifier\n",
    "from sklearn.linear_model import LogisticRegression\n",
    "from sklearn.naive_bayes import ComplementNB, MultinomialNB\n",
    "from sklearn.model_selection import cross_val_score\n",
    "\n",
    "# NLP\n",
    "from sklearn.feature_extraction.text import TfidfVectorizer\n",
    "from sklearn.feature_extraction.text import CountVectorizer\n",
    "import nltk.sentiment\n",
    "\n",
    "# local modules\n",
    "import wrangle as w\n",
    "import modeling as m\n",
    "\n",
    "# warnings\n",
    "import warnings\n",
    "warnings.filterwarnings('ignore')"
   ]
  },
  {
   "cell_type": "code",
   "execution_count": 2,
   "id": "9aaa4bd4-2320-4546-b651-456fad00759d",
   "metadata": {},
   "outputs": [],
   "source": [
    "train, validate, test = w.split_data()"
   ]
  },
  {
   "cell_type": "code",
   "execution_count": 3,
   "id": "87b58f74-b6f9-42e6-a7db-1308bdb7b865",
   "metadata": {},
   "outputs": [
    {
     "data": {
      "text/html": [
       "<div>\n",
       "<style scoped>\n",
       "    .dataframe tbody tr th:only-of-type {\n",
       "        vertical-align: middle;\n",
       "    }\n",
       "\n",
       "    .dataframe tbody tr th {\n",
       "        vertical-align: top;\n",
       "    }\n",
       "\n",
       "    .dataframe thead th {\n",
       "        text-align: right;\n",
       "    }\n",
       "</style>\n",
       "<table border=\"1\" class=\"dataframe\">\n",
       "  <thead>\n",
       "    <tr style=\"text-align: right;\">\n",
       "      <th></th>\n",
       "      <th>repo</th>\n",
       "      <th>language</th>\n",
       "      <th>original</th>\n",
       "      <th>basic_clean</th>\n",
       "      <th>clean</th>\n",
       "      <th>stemmed</th>\n",
       "      <th>lemmatized</th>\n",
       "      <th>word_count</th>\n",
       "      <th>stopword_count</th>\n",
       "      <th>stopword_ratio</th>\n",
       "      <th>compound_sentiment</th>\n",
       "      <th>num_unique</th>\n",
       "      <th>percent_unique</th>\n",
       "    </tr>\n",
       "  </thead>\n",
       "  <tbody>\n",
       "    <tr>\n",
       "      <th>71</th>\n",
       "      <td>./cozodb/cozo</td>\n",
       "      <td>Rust</td>\n",
       "      <td>&lt;img src=\"static/logo_c.png\" width=\"200\" heigh...</td>\n",
       "      <td>img srcstaticlogocpng width200 height175 altlo...</td>\n",
       "      <td>img srcstaticlogocpng width200 height175 altlo...</td>\n",
       "      <td>img srcstaticlogocpng width200 height175 altlo...</td>\n",
       "      <td>img srcstaticlogocpng width200 height175 altlo...</td>\n",
       "      <td>2320</td>\n",
       "      <td>884</td>\n",
       "      <td>38.10</td>\n",
       "      <td>0.9985</td>\n",
       "      <td>713</td>\n",
       "      <td>30.73</td>\n",
       "    </tr>\n",
       "    <tr>\n",
       "      <th>149</th>\n",
       "      <td>./OpenTalker/video-retalking</td>\n",
       "      <td>Python</td>\n",
       "      <td>&lt;div align=\"center\"&gt;\\n\\n&lt;h2&gt;VideoReTalking &lt;br...</td>\n",
       "      <td>div aligncenterh2videoretalking br span stylef...</td>\n",
       "      <td>div aligncenterh2videoretalking br span stylef...</td>\n",
       "      <td>div aligncenterh2videoretalk br span stylefont...</td>\n",
       "      <td>div aligncenterh2videoretalk br span stylefont...</td>\n",
       "      <td>535</td>\n",
       "      <td>145</td>\n",
       "      <td>27.10</td>\n",
       "      <td>0.9766</td>\n",
       "      <td>272</td>\n",
       "      <td>50.84</td>\n",
       "    </tr>\n",
       "    <tr>\n",
       "      <th>6</th>\n",
       "      <td>./microsoft/Web-Dev-For-Beginners</td>\n",
       "      <td>JavaScript</td>\n",
       "      <td>[![GitHub license](https://img.shields.io/gith...</td>\n",
       "      <td>github licensehttpsimgshieldsiogithublicensemi...</td>\n",
       "      <td>github licensehttpsimgshieldsiogithublicensemi...</td>\n",
       "      <td>github licensehttpsimgshieldsiogithublicensemi...</td>\n",
       "      <td>github licensehttpsimgshieldsiogithublicensemi...</td>\n",
       "      <td>1422</td>\n",
       "      <td>507</td>\n",
       "      <td>35.65</td>\n",
       "      <td>0.9968</td>\n",
       "      <td>450</td>\n",
       "      <td>31.65</td>\n",
       "    </tr>\n",
       "    <tr>\n",
       "      <th>162</th>\n",
       "      <td>./ChanseyIsTheBest/NX-60FPS-RES-GFX-Cheats</td>\n",
       "      <td>Python</td>\n",
       "      <td># NX-60FPS-RES-GFX-Cheats\\n\\n![fpsdemo1](https...</td>\n",
       "      <td>nx60fpsresgfxcheatsfpsdemo1httpsuserimagesgit...</td>\n",
       "      <td>nx60fpsresgfxcheatsfpsdemo1httpsuserimagesgith...</td>\n",
       "      <td>nx60fpsresgfxcheatsfpsdemo1httpsuserimagesgith...</td>\n",
       "      <td>nx60fpsresgfxcheatsfpsdemo1httpsuserimagesgith...</td>\n",
       "      <td>661</td>\n",
       "      <td>256</td>\n",
       "      <td>38.73</td>\n",
       "      <td>-0.9940</td>\n",
       "      <td>245</td>\n",
       "      <td>37.07</td>\n",
       "    </tr>\n",
       "    <tr>\n",
       "      <th>91</th>\n",
       "      <td>./datafuselabs/databend</td>\n",
       "      <td>Rust</td>\n",
       "      <td>&lt;h1 align=\"center\"&gt;The Future of Cloud Data An...</td>\n",
       "      <td>h1 aligncenterthe future of cloud data analyti...</td>\n",
       "      <td>h1 aligncenterthe future cloud data analyticsh...</td>\n",
       "      <td>h1 aligncenterth futur cloud data analyticsh1d...</td>\n",
       "      <td>h1 aligncenterth futur cloud data analyticsh1d...</td>\n",
       "      <td>778</td>\n",
       "      <td>258</td>\n",
       "      <td>33.16</td>\n",
       "      <td>0.9971</td>\n",
       "      <td>359</td>\n",
       "      <td>46.14</td>\n",
       "    </tr>\n",
       "  </tbody>\n",
       "</table>\n",
       "</div>"
      ],
      "text/plain": [
       "                                           repo    language  \\\n",
       "71                                ./cozodb/cozo        Rust   \n",
       "149                ./OpenTalker/video-retalking      Python   \n",
       "6             ./microsoft/Web-Dev-For-Beginners  JavaScript   \n",
       "162  ./ChanseyIsTheBest/NX-60FPS-RES-GFX-Cheats      Python   \n",
       "91                      ./datafuselabs/databend        Rust   \n",
       "\n",
       "                                              original  \\\n",
       "71   <img src=\"static/logo_c.png\" width=\"200\" heigh...   \n",
       "149  <div align=\"center\">\\n\\n<h2>VideoReTalking <br...   \n",
       "6    [![GitHub license](https://img.shields.io/gith...   \n",
       "162  # NX-60FPS-RES-GFX-Cheats\\n\\n![fpsdemo1](https...   \n",
       "91   <h1 align=\"center\">The Future of Cloud Data An...   \n",
       "\n",
       "                                           basic_clean  \\\n",
       "71   img srcstaticlogocpng width200 height175 altlo...   \n",
       "149  div aligncenterh2videoretalking br span stylef...   \n",
       "6    github licensehttpsimgshieldsiogithublicensemi...   \n",
       "162   nx60fpsresgfxcheatsfpsdemo1httpsuserimagesgit...   \n",
       "91   h1 aligncenterthe future of cloud data analyti...   \n",
       "\n",
       "                                                 clean  \\\n",
       "71   img srcstaticlogocpng width200 height175 altlo...   \n",
       "149  div aligncenterh2videoretalking br span stylef...   \n",
       "6    github licensehttpsimgshieldsiogithublicensemi...   \n",
       "162  nx60fpsresgfxcheatsfpsdemo1httpsuserimagesgith...   \n",
       "91   h1 aligncenterthe future cloud data analyticsh...   \n",
       "\n",
       "                                               stemmed  \\\n",
       "71   img srcstaticlogocpng width200 height175 altlo...   \n",
       "149  div aligncenterh2videoretalk br span stylefont...   \n",
       "6    github licensehttpsimgshieldsiogithublicensemi...   \n",
       "162  nx60fpsresgfxcheatsfpsdemo1httpsuserimagesgith...   \n",
       "91   h1 aligncenterth futur cloud data analyticsh1d...   \n",
       "\n",
       "                                            lemmatized  word_count  \\\n",
       "71   img srcstaticlogocpng width200 height175 altlo...        2320   \n",
       "149  div aligncenterh2videoretalk br span stylefont...         535   \n",
       "6    github licensehttpsimgshieldsiogithublicensemi...        1422   \n",
       "162  nx60fpsresgfxcheatsfpsdemo1httpsuserimagesgith...         661   \n",
       "91   h1 aligncenterth futur cloud data analyticsh1d...         778   \n",
       "\n",
       "     stopword_count  stopword_ratio  compound_sentiment  num_unique  \\\n",
       "71              884           38.10              0.9985         713   \n",
       "149             145           27.10              0.9766         272   \n",
       "6               507           35.65              0.9968         450   \n",
       "162             256           38.73             -0.9940         245   \n",
       "91              258           33.16              0.9971         359   \n",
       "\n",
       "     percent_unique  \n",
       "71            30.73  \n",
       "149           50.84  \n",
       "6             31.65  \n",
       "162           37.07  \n",
       "91            46.14  "
      ]
     },
     "execution_count": 3,
     "metadata": {},
     "output_type": "execute_result"
    }
   ],
   "source": [
    "train.head()"
   ]
  },
  {
   "cell_type": "code",
   "execution_count": 4,
   "id": "e8c2d939-0474-4eb2-9321-97a33806c935",
   "metadata": {},
   "outputs": [],
   "source": [
    "# X_train = train['lemmatized']\n",
    "# X_validate = validate['lemmatized']\n",
    "# X_test = test['lemmatized']\n",
    "# y_train = train.language\n",
    "# y_validate = validate.language\n",
    "# y_test = test.language"
   ]
  },
  {
   "cell_type": "code",
   "execution_count": 5,
   "id": "71227beb-2f0b-4232-ad63-3ee5131d65b9",
   "metadata": {},
   "outputs": [],
   "source": [
    "# X_train.info()"
   ]
  },
  {
   "cell_type": "code",
   "execution_count": 6,
   "id": "451ca8b8-7e8c-4986-8891-eb8dcc54636b",
   "metadata": {},
   "outputs": [],
   "source": [
    "# y_test.info()"
   ]
  },
  {
   "cell_type": "code",
   "execution_count": 7,
   "id": "c7957b32-663c-41cc-ae85-94048618bb22",
   "metadata": {},
   "outputs": [],
   "source": [
    "# X_train.head()"
   ]
  },
  {
   "cell_type": "code",
   "execution_count": 8,
   "id": "fe29680f-055b-47fb-a03c-524182f31b18",
   "metadata": {},
   "outputs": [],
   "source": [
    "# tfidf = TfidfVectorizer()\n",
    "# X_train = tfidf.fit_transform(X_train)\n",
    "# X_validate = tfidf.transform(X_validate)\n",
    "# X_test = tfidf.transform(X_test)"
   ]
  },
  {
   "cell_type": "code",
   "execution_count": 9,
   "id": "79a21281-32a2-4f88-a42c-77d403a0345d",
   "metadata": {},
   "outputs": [],
   "source": [
    "# X_train\n"
   ]
  },
  {
   "cell_type": "code",
   "execution_count": 10,
   "id": "041d00e3-7717-42c9-9993-e5bb00804bb5",
   "metadata": {},
   "outputs": [],
   "source": [
    "# X_train.todense()"
   ]
  },
  {
   "cell_type": "code",
   "execution_count": 11,
   "id": "6ed54eb1-83ba-4b51-b13b-61898727f3c1",
   "metadata": {},
   "outputs": [],
   "source": [
    "# rf = RandomForestClassifier()\n",
    "# rf.fit(X_train, y_train)\n",
    "# preds = rf.predict(X_train)\n",
    "# accuracy_train = rf.score(X_train, y_train)\n",
    "# accuracy_val = rf.score(X_validate, y_validate)\n",
    "# print(accuracy_train, accuracy_val)"
   ]
  },
  {
   "cell_type": "code",
   "execution_count": 12,
   "id": "a4cdec2a-6308-42c1-b589-14e6843df591",
   "metadata": {},
   "outputs": [],
   "source": [
    "# df = m.knn_classification_plus(train, validate, 'language')\n",
    "# df.sort_values('accuracy_val', ascending=False)"
   ]
  },
  {
   "cell_type": "code",
   "execution_count": 13,
   "id": "19dedfdc-a70d-4a94-83c2-8310c6145b4f",
   "metadata": {},
   "outputs": [],
   "source": [
    "# model_data(train, validate, 'language')"
   ]
  },
  {
   "cell_type": "code",
   "execution_count": 14,
   "id": "7320a118-8878-4d34-9363-cdcc30b01bb4",
   "metadata": {},
   "outputs": [],
   "source": [
    "# df = m.knn_classification(train, validate, 'language')\n",
    "# df.sort_values('accuracy_val', ascending=False)"
   ]
  },
  {
   "cell_type": "code",
   "execution_count": 15,
   "id": "470ca5e9-01a2-4a38-8985-33b39414e1d3",
   "metadata": {},
   "outputs": [],
   "source": [
    "# df = m.nb_classification(train, validate, 'language')\n",
    "# df.sort_values('accuracy_val', ascending=False)"
   ]
  },
  {
   "cell_type": "code",
   "execution_count": 16,
   "id": "eb4493bb-2f4b-4868-aee8-b49895d9ba21",
   "metadata": {},
   "outputs": [],
   "source": [
    "# df = m.nb_classification_plus(train, validate, 'language')\n",
    "# df.sort_values('accuracy_val', ascending=False)"
   ]
  },
  {
   "cell_type": "code",
   "execution_count": 17,
   "id": "34c94ac2-0c27-4f83-9208-926e338fe0e7",
   "metadata": {},
   "outputs": [],
   "source": [
    "# m.model_data_plus(train, validate, 'language')"
   ]
  },
  {
   "cell_type": "code",
   "execution_count": 18,
   "id": "74ecc75a-f9ce-4630-95c8-23319ec0e756",
   "metadata": {},
   "outputs": [],
   "source": [
    "# m.model_data(train, validate, 'language')"
   ]
  },
  {
   "cell_type": "code",
   "execution_count": 19,
   "id": "f3f1e5ea-9f52-4c82-be61-ce5ec6c9d181",
   "metadata": {},
   "outputs": [
    {
     "data": {
      "text/html": [
       "<div>\n",
       "<style scoped>\n",
       "    .dataframe tbody tr th:only-of-type {\n",
       "        vertical-align: middle;\n",
       "    }\n",
       "\n",
       "    .dataframe tbody tr th {\n",
       "        vertical-align: top;\n",
       "    }\n",
       "\n",
       "    .dataframe thead th {\n",
       "        text-align: right;\n",
       "    }\n",
       "</style>\n",
       "<table border=\"1\" class=\"dataframe\">\n",
       "  <thead>\n",
       "    <tr style=\"text-align: right;\">\n",
       "      <th></th>\n",
       "      <th>hyperparams</th>\n",
       "      <th>accuracy_train</th>\n",
       "      <th>accuracy_val</th>\n",
       "      <th>algorithm</th>\n",
       "    </tr>\n",
       "  </thead>\n",
       "  <tbody>\n",
       "    <tr>\n",
       "      <th>0</th>\n",
       "      <td>2</td>\n",
       "      <td>0.791209</td>\n",
       "      <td>0.625</td>\n",
       "      <td>knn</td>\n",
       "    </tr>\n",
       "    <tr>\n",
       "      <th>1</th>\n",
       "      <td>4</td>\n",
       "      <td>0.769231</td>\n",
       "      <td>0.650</td>\n",
       "      <td>knn</td>\n",
       "    </tr>\n",
       "    <tr>\n",
       "      <th>2</th>\n",
       "      <td>6</td>\n",
       "      <td>0.769231</td>\n",
       "      <td>0.750</td>\n",
       "      <td>knn</td>\n",
       "    </tr>\n",
       "    <tr>\n",
       "      <th>3</th>\n",
       "      <td>8</td>\n",
       "      <td>0.780220</td>\n",
       "      <td>0.700</td>\n",
       "      <td>knn</td>\n",
       "    </tr>\n",
       "    <tr>\n",
       "      <th>4</th>\n",
       "      <td>10</td>\n",
       "      <td>0.813187</td>\n",
       "      <td>0.800</td>\n",
       "      <td>knn</td>\n",
       "    </tr>\n",
       "    <tr>\n",
       "      <th>5</th>\n",
       "      <td>12</td>\n",
       "      <td>0.813187</td>\n",
       "      <td>0.775</td>\n",
       "      <td>knn</td>\n",
       "    </tr>\n",
       "    <tr>\n",
       "      <th>6</th>\n",
       "      <td>14</td>\n",
       "      <td>0.802198</td>\n",
       "      <td>0.775</td>\n",
       "      <td>knn</td>\n",
       "    </tr>\n",
       "    <tr>\n",
       "      <th>7</th>\n",
       "      <td>16</td>\n",
       "      <td>0.791209</td>\n",
       "      <td>0.850</td>\n",
       "      <td>knn</td>\n",
       "    </tr>\n",
       "    <tr>\n",
       "      <th>8</th>\n",
       "      <td>18</td>\n",
       "      <td>0.813187</td>\n",
       "      <td>0.825</td>\n",
       "      <td>knn</td>\n",
       "    </tr>\n",
       "    <tr>\n",
       "      <th>9</th>\n",
       "      <td>20</td>\n",
       "      <td>0.780220</td>\n",
       "      <td>0.825</td>\n",
       "      <td>knn</td>\n",
       "    </tr>\n",
       "  </tbody>\n",
       "</table>\n",
       "</div>"
      ],
      "text/plain": [
       "   hyperparams  accuracy_train  accuracy_val algorithm\n",
       "0            2        0.791209         0.625       knn\n",
       "1            4        0.769231         0.650       knn\n",
       "2            6        0.769231         0.750       knn\n",
       "3            8        0.780220         0.700       knn\n",
       "4           10        0.813187         0.800       knn\n",
       "5           12        0.813187         0.775       knn\n",
       "6           14        0.802198         0.775       knn\n",
       "7           16        0.791209         0.850       knn\n",
       "8           18        0.813187         0.825       knn\n",
       "9           20        0.780220         0.825       knn"
      ]
     },
     "execution_count": 19,
     "metadata": {},
     "output_type": "execute_result"
    }
   ],
   "source": [
    "m.knn_classification(train, validate, 'language')"
   ]
  },
  {
   "cell_type": "code",
   "execution_count": 20,
   "id": "e0f9f640-35b8-40f5-b649-fc41f422d4f9",
   "metadata": {},
   "outputs": [
    {
     "data": {
      "text/plain": [
       "(40, 13)"
      ]
     },
     "execution_count": 20,
     "metadata": {},
     "output_type": "execute_result"
    }
   ],
   "source": [
    "validate.shape"
   ]
  },
  {
   "cell_type": "code",
   "execution_count": 21,
   "id": "38fab31b-f5f8-4d8e-9b5e-f275a8c14160",
   "metadata": {},
   "outputs": [],
   "source": [
    "\n",
    "df = (pd.concat([train, validate, test], axis=0).sort_index())\n",
    "df = df[['language', 'lemmatized']]\n"
   ]
  },
  {
   "cell_type": "code",
   "execution_count": 22,
   "id": "a8185be4-ffc6-49cc-a7e1-9073fc9b6853",
   "metadata": {},
   "outputs": [],
   "source": [
    "X = df['lemmatized']\n",
    "y = df['language']"
   ]
  },
  {
   "cell_type": "code",
   "execution_count": 23,
   "id": "cb96230e-02fa-4944-bca8-05b69386cced",
   "metadata": {},
   "outputs": [],
   "source": [
    "k_values = [i for i in range (1,31)]\n",
    "scores = []\n",
    "\n",
    "tfidf = TfidfVectorizer()\n",
    "X = tfidf.fit_transform(X)\n",
    "\n",
    "for k in k_values:\n",
    "    knn = KNeighborsClassifier(n_neighbors=k)\n",
    "    score = cross_val_score(knn, X, y, cv=3)\n",
    "    scores.append(np.mean(score))"
   ]
  },
  {
   "cell_type": "code",
   "execution_count": 24,
   "id": "7d4a808e-a4e6-45df-a0d6-4e7d425fb54b",
   "metadata": {},
   "outputs": [
    {
     "data": {
      "text/plain": [
       "[0.573063973063973,\n",
       " 0.5054994388327722,\n",
       " 0.5665544332210999,\n",
       " 0.5664421997755331,\n",
       " 0.5966329966329966,\n",
       " 0.5968574635241302,\n",
       " 0.5847362514029181,\n",
       " 0.5967452300785634,\n",
       " 0.6029180695847361,\n",
       " 0.6333333333333333,\n",
       " 0.6514029180695847,\n",
       " 0.6573512906846241,\n",
       " 0.6333333333333333,\n",
       " 0.6272727272727273,\n",
       " 0.6393939393939394,\n",
       " 0.6700336700336701,\n",
       " 0.6028058361391695,\n",
       " 0.6392817059483726,\n",
       " 0.6210998877665544,\n",
       " 0.603030303030303,\n",
       " 0.6093153759820428,\n",
       " 0.6154882154882155,\n",
       " 0.6151515151515151,\n",
       " 0.6092031425364759,\n",
       " 0.5909090909090909,\n",
       " 0.6154882154882155,\n",
       " 0.6395061728395062,\n",
       " 0.6032547699214366,\n",
       " 0.6154882154882155,\n",
       " 0.6094276094276094]"
      ]
     },
     "execution_count": 24,
     "metadata": {},
     "output_type": "execute_result"
    }
   ],
   "source": [
    "scores"
   ]
  },
  {
   "cell_type": "code",
   "execution_count": 25,
   "id": "4863bf8c-8961-4189-be2f-79ba46e6a0e3",
   "metadata": {},
   "outputs": [
    {
     "data": {
      "text/plain": [
       "Text(0, 0.5, 'Accuracy Score')"
      ]
     },
     "execution_count": 25,
     "metadata": {},
     "output_type": "execute_result"
    },
    {
     "data": {
      "image/png": "[encoded data removed]",
      "text/plain": [
       "<Figure size 640x480 with 1 Axes>"
      ]
     },
     "metadata": {},
     "output_type": "display_data"
    }
   ],
   "source": [
    "sns.lineplot(x = k_values, y = scores, marker = 'o')\n",
    "plt.xlabel(\"K Values\")\n",
    "plt.ylabel(\"Accuracy Score\")"
   ]
  },
  {
   "cell_type": "code",
   "execution_count": 26,
   "id": "12687027-ac33-438a-8762-82f3a5066530",
   "metadata": {},
   "outputs": [
    {
     "data": {
      "text/html": [
       "<div>\n",
       "<style scoped>\n",
       "    .dataframe tbody tr th:only-of-type {\n",
       "        vertical-align: middle;\n",
       "    }\n",
       "\n",
       "    .dataframe tbody tr th {\n",
       "        vertical-align: top;\n",
       "    }\n",
       "\n",
       "    .dataframe thead th {\n",
       "        text-align: right;\n",
       "    }\n",
       "</style>\n",
       "<table border=\"1\" class=\"dataframe\">\n",
       "  <thead>\n",
       "    <tr style=\"text-align: right;\">\n",
       "      <th></th>\n",
       "      <th>hyperparams</th>\n",
       "      <th>accuracy_train</th>\n",
       "      <th>accuracy_validate</th>\n",
       "      <th>accuracy_test</th>\n",
       "      <th>algorithm</th>\n",
       "    </tr>\n",
       "  </thead>\n",
       "  <tbody>\n",
       "    <tr>\n",
       "      <th>0</th>\n",
       "      <td>16</td>\n",
       "      <td>0.791209</td>\n",
       "      <td>0.85</td>\n",
       "      <td>0.606061</td>\n",
       "      <td>knn</td>\n",
       "    </tr>\n",
       "  </tbody>\n",
       "</table>\n",
       "</div>"
      ],
      "text/plain": [
       "   hyperparams  accuracy_train  accuracy_validate  accuracy_test algorithm\n",
       "0           16        0.791209               0.85       0.606061       knn"
      ]
     },
     "execution_count": 26,
     "metadata": {},
     "output_type": "execute_result"
    }
   ],
   "source": [
    "m.best_model_on_test(train, validate, test, 'language', )"
   ]
  }
 ],
 "metadata": {
  "kernelspec": {
   "display_name": "Python 3 (ipykernel)",
   "language": "python",
   "name": "python3"
  },
  "language_info": {
   "codemirror_mode": {
    "name": "ipython",
    "version": 3
   },
   "file_extension": ".py",
   "mimetype": "text/x-python",
   "name": "python",
   "nbconvert_exporter": "python",
   "pygments_lexer": "ipython3",
   "version": "3.9.13"
  }
 },
 "nbformat": 4,
 "nbformat_minor": 5
}
