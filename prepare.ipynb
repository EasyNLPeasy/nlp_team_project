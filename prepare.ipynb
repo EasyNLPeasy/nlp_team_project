{
 "cells": [
  {
   "cell_type": "code",
   "execution_count": 1,
   "id": "55c1f070",
   "metadata": {},
   "outputs": [],
   "source": [
    "import unicodedata\n",
    "import re\n",
    "import json\n",
    "\n",
    "import nltk\n",
    "from nltk.tokenize.toktok import ToktokTokenizer\n",
    "from nltk.corpus import stopwords\n",
    "\n",
    "import pandas as pd\n",
    "\n",
    "import os\n",
    "import acquire as a\n",
    "import wrangle as w"
   ]
  },
  {
   "cell_type": "code",
   "execution_count": 2,
   "id": "f0037b32",
   "metadata": {},
   "outputs": [],
   "source": [
    "# df = pd.DataFrame(a.scrape_github_data())"
   ]
  },
  {
   "cell_type": "code",
   "execution_count": 3,
   "id": "ecc5b4fc",
   "metadata": {},
   "outputs": [],
   "source": [
    "# df"
   ]
  },
  {
   "cell_type": "code",
   "execution_count": 4,
   "id": "1cd90a1b",
   "metadata": {},
   "outputs": [],
   "source": [
    "def acquire_github_data():\n",
    "    if os.path.isfile('repos.csv'):\n",
    "        return pd.read_csv('repos.csv', index_col=0)\n",
    "    else:\n",
    "        df = pd.DataFrame(a.scrape_github_data())\n",
    "        df.to_csv('repos.csv')\n",
    "        return df"
   ]
  },
  {
   "cell_type": "code",
   "execution_count": 5,
   "id": "f898cf08",
   "metadata": {},
   "outputs": [],
   "source": [
    "df = w.acquire_github_data()"
   ]
  },
  {
   "cell_type": "code",
   "execution_count": 6,
   "id": "d0352162",
   "metadata": {},
   "outputs": [
    {
     "data": {
      "text/html": [
       "<div>\n",
       "<style scoped>\n",
       "    .dataframe tbody tr th:only-of-type {\n",
       "        vertical-align: middle;\n",
       "    }\n",
       "\n",
       "    .dataframe tbody tr th {\n",
       "        vertical-align: top;\n",
       "    }\n",
       "\n",
       "    .dataframe thead th {\n",
       "        text-align: right;\n",
       "    }\n",
       "</style>\n",
       "<table border=\"1\" class=\"dataframe\">\n",
       "  <thead>\n",
       "    <tr style=\"text-align: right;\">\n",
       "      <th></th>\n",
       "      <th>repo</th>\n",
       "      <th>language</th>\n",
       "      <th>readme_contents</th>\n",
       "    </tr>\n",
       "  </thead>\n",
       "  <tbody>\n",
       "    <tr>\n",
       "      <th>0</th>\n",
       "      <td>./WebGoat/WebGoat</td>\n",
       "      <td>JavaScript</td>\n",
       "      <td># WebGoat 8: A deliberately insecure Web Appli...</td>\n",
       "    </tr>\n",
       "    <tr>\n",
       "      <th>1</th>\n",
       "      <td>./vercel/next-react-server-components</td>\n",
       "      <td>JavaScript</td>\n",
       "      <td># Next.js App Router + React Server Components...</td>\n",
       "    </tr>\n",
       "    <tr>\n",
       "      <th>2</th>\n",
       "      <td>./LaurentMazare/tch-rs</td>\n",
       "      <td>Rust</td>\n",
       "      <td># tch-rs\\nRust bindings for the C++ api of PyT...</td>\n",
       "    </tr>\n",
       "    <tr>\n",
       "      <th>3</th>\n",
       "      <td>./ultralytics/yolov5</td>\n",
       "      <td>Python</td>\n",
       "      <td>&lt;div align=\"center\"&gt;\\n  &lt;p&gt;\\n    &lt;a align=\"cen...</td>\n",
       "    </tr>\n",
       "    <tr>\n",
       "      <th>4</th>\n",
       "      <td>./FastForwardTeam/FastForward</td>\n",
       "      <td>JavaScript</td>\n",
       "      <td>&lt;div align=\"center\"&gt;\\n&lt;img src=\"https://avatar...</td>\n",
       "    </tr>\n",
       "    <tr>\n",
       "      <th>...</th>\n",
       "      <td>...</td>\n",
       "      <td>...</td>\n",
       "      <td>...</td>\n",
       "    </tr>\n",
       "    <tr>\n",
       "      <th>159</th>\n",
       "      <td>./deepinsight/insightface</td>\n",
       "      <td>Python</td>\n",
       "      <td>\\n# InsightFace: 2D and 3D Face Analysis Proje...</td>\n",
       "    </tr>\n",
       "    <tr>\n",
       "      <th>160</th>\n",
       "      <td>./DominikDoom/a1111-sd-webui-tagcomplete</td>\n",
       "      <td>JavaScript</td>\n",
       "      <td>![tag_autocomplete_light](https://user-images....</td>\n",
       "    </tr>\n",
       "    <tr>\n",
       "      <th>161</th>\n",
       "      <td>./zloirock/core-js</td>\n",
       "      <td>JavaScript</td>\n",
       "      <td>![logo](https://user-images.githubusercontent....</td>\n",
       "    </tr>\n",
       "    <tr>\n",
       "      <th>162</th>\n",
       "      <td>./ChanseyIsTheBest/NX-60FPS-RES-GFX-Cheats</td>\n",
       "      <td>Python</td>\n",
       "      <td># NX-60FPS-RES-GFX-Cheats\\n\\n![fpsdemo1](https...</td>\n",
       "    </tr>\n",
       "    <tr>\n",
       "      <th>163</th>\n",
       "      <td>./elebumm/RedditVideoMakerBot</td>\n",
       "      <td>Python</td>\n",
       "      <td># Reddit Video Maker Bot 🎥\\n\\nAll done WITHOUT...</td>\n",
       "    </tr>\n",
       "  </tbody>\n",
       "</table>\n",
       "<p>164 rows × 3 columns</p>\n",
       "</div>"
      ],
      "text/plain": [
       "                                           repo    language  \\\n",
       "0                             ./WebGoat/WebGoat  JavaScript   \n",
       "1         ./vercel/next-react-server-components  JavaScript   \n",
       "2                        ./LaurentMazare/tch-rs        Rust   \n",
       "3                          ./ultralytics/yolov5      Python   \n",
       "4                 ./FastForwardTeam/FastForward  JavaScript   \n",
       "..                                          ...         ...   \n",
       "159                   ./deepinsight/insightface      Python   \n",
       "160    ./DominikDoom/a1111-sd-webui-tagcomplete  JavaScript   \n",
       "161                          ./zloirock/core-js  JavaScript   \n",
       "162  ./ChanseyIsTheBest/NX-60FPS-RES-GFX-Cheats      Python   \n",
       "163               ./elebumm/RedditVideoMakerBot      Python   \n",
       "\n",
       "                                       readme_contents  \n",
       "0    # WebGoat 8: A deliberately insecure Web Appli...  \n",
       "1    # Next.js App Router + React Server Components...  \n",
       "2    # tch-rs\\nRust bindings for the C++ api of PyT...  \n",
       "3    <div align=\"center\">\\n  <p>\\n    <a align=\"cen...  \n",
       "4    <div align=\"center\">\\n<img src=\"https://avatar...  \n",
       "..                                                 ...  \n",
       "159  \\n# InsightFace: 2D and 3D Face Analysis Proje...  \n",
       "160  ![tag_autocomplete_light](https://user-images....  \n",
       "161  ![logo](https://user-images.githubusercontent....  \n",
       "162  # NX-60FPS-RES-GFX-Cheats\\n\\n![fpsdemo1](https...  \n",
       "163  # Reddit Video Maker Bot 🎥\\n\\nAll done WITHOUT...  \n",
       "\n",
       "[164 rows x 3 columns]"
      ]
     },
     "execution_count": 6,
     "metadata": {},
     "output_type": "execute_result"
    }
   ],
   "source": [
    "df"
   ]
  },
  {
   "cell_type": "code",
   "execution_count": 7,
   "id": "ca2f17fe",
   "metadata": {},
   "outputs": [],
   "source": [
    "df = w.prepare_github_df()"
   ]
  },
  {
   "cell_type": "code",
   "execution_count": 8,
   "id": "881cf8c3",
   "metadata": {},
   "outputs": [
    {
     "data": {
      "text/plain": [
       "repo          0\n",
       "language      0\n",
       "original      0\n",
       "clean         0\n",
       "stemmed       0\n",
       "lemmatized    0\n",
       "dtype: int64"
      ]
     },
     "execution_count": 8,
     "metadata": {},
     "output_type": "execute_result"
    }
   ],
   "source": [
    "# There are no null values in the dataframe\n",
    "\n",
    "df.isna().sum()"
   ]
  },
  {
   "cell_type": "code",
   "execution_count": 9,
   "id": "0bb9d685",
   "metadata": {},
   "outputs": [
    {
     "data": {
      "text/html": [
       "<div>\n",
       "<style scoped>\n",
       "    .dataframe tbody tr th:only-of-type {\n",
       "        vertical-align: middle;\n",
       "    }\n",
       "\n",
       "    .dataframe tbody tr th {\n",
       "        vertical-align: top;\n",
       "    }\n",
       "\n",
       "    .dataframe thead th {\n",
       "        text-align: right;\n",
       "    }\n",
       "</style>\n",
       "<table border=\"1\" class=\"dataframe\">\n",
       "  <thead>\n",
       "    <tr style=\"text-align: right;\">\n",
       "      <th></th>\n",
       "      <th>repo</th>\n",
       "      <th>language</th>\n",
       "      <th>original</th>\n",
       "      <th>clean</th>\n",
       "      <th>stemmed</th>\n",
       "      <th>lemmatized</th>\n",
       "    </tr>\n",
       "  </thead>\n",
       "  <tbody>\n",
       "    <tr>\n",
       "      <th>0</th>\n",
       "      <td>./WebGoat/WebGoat</td>\n",
       "      <td>JavaScript</td>\n",
       "      <td># WebGoat 8: A deliberately insecure Web Appli...</td>\n",
       "      <td>webgoat 8 deliberately insecure web applicatio...</td>\n",
       "      <td>webgoat 8 deliber insecur web applic buildhttp...</td>\n",
       "      <td>webgoat 8 deliber insecur web applic buildhttp...</td>\n",
       "    </tr>\n",
       "    <tr>\n",
       "      <th>1</th>\n",
       "      <td>./vercel/next-react-server-components</td>\n",
       "      <td>JavaScript</td>\n",
       "      <td># Next.js App Router + React Server Components...</td>\n",
       "      <td>nextjs app router react server components try ...</td>\n",
       "      <td>nextj app router react server compon tri demo ...</td>\n",
       "      <td>nextj app router react server compon tri demo ...</td>\n",
       "    </tr>\n",
       "    <tr>\n",
       "      <th>2</th>\n",
       "      <td>./LaurentMazare/tch-rs</td>\n",
       "      <td>Rust</td>\n",
       "      <td># tch-rs\\nRust bindings for the C++ api of PyT...</td>\n",
       "      <td>tchrs rust bindings c api pytorch goal tch cra...</td>\n",
       "      <td>tchr rust bind c api pytorch goal tch crate pr...</td>\n",
       "      <td>tchr rust bind c api pytorch goal tch crate pr...</td>\n",
       "    </tr>\n",
       "  </tbody>\n",
       "</table>\n",
       "</div>"
      ],
      "text/plain": [
       "                                    repo    language  \\\n",
       "0                      ./WebGoat/WebGoat  JavaScript   \n",
       "1  ./vercel/next-react-server-components  JavaScript   \n",
       "2                 ./LaurentMazare/tch-rs        Rust   \n",
       "\n",
       "                                            original  \\\n",
       "0  # WebGoat 8: A deliberately insecure Web Appli...   \n",
       "1  # Next.js App Router + React Server Components...   \n",
       "2  # tch-rs\\nRust bindings for the C++ api of PyT...   \n",
       "\n",
       "                                               clean  \\\n",
       "0  webgoat 8 deliberately insecure web applicatio...   \n",
       "1  nextjs app router react server components try ...   \n",
       "2  tchrs rust bindings c api pytorch goal tch cra...   \n",
       "\n",
       "                                             stemmed  \\\n",
       "0  webgoat 8 deliber insecur web applic buildhttp...   \n",
       "1  nextj app router react server compon tri demo ...   \n",
       "2  tchr rust bind c api pytorch goal tch crate pr...   \n",
       "\n",
       "                                          lemmatized  \n",
       "0  webgoat 8 deliber insecur web applic buildhttp...  \n",
       "1  nextj app router react server compon tri demo ...  \n",
       "2  tchr rust bind c api pytorch goal tch crate pr...  "
      ]
     },
     "execution_count": 9,
     "metadata": {},
     "output_type": "execute_result"
    }
   ],
   "source": [
    "df.head(3)"
   ]
  },
  {
   "cell_type": "code",
   "execution_count": 10,
   "id": "ba8e83e2",
   "metadata": {},
   "outputs": [
    {
     "data": {
      "text/plain": [
       "Python        58\n",
       "JavaScript    56\n",
       "Rust          50\n",
       "Name: language, dtype: int64"
      ]
     },
     "execution_count": 10,
     "metadata": {},
     "output_type": "execute_result"
    }
   ],
   "source": [
    "df.language.value_counts()"
   ]
  },
  {
   "cell_type": "code",
   "execution_count": 11,
   "id": "b0eb024e",
   "metadata": {},
   "outputs": [],
   "source": [
    "# Splitting the data\n",
    "\n",
    "from sklearn.model_selection import train_test_split"
   ]
  },
  {
   "cell_type": "code",
   "execution_count": 17,
   "id": "8368d64a",
   "metadata": {},
   "outputs": [],
   "source": [
    "def split_data():\n",
    "    df = w.prepare_github_df()\n",
    "    \n",
    "    train_validate, test = train_test_split(df, random_state = 1349, train_size=.8, stratify=df.language)\n",
    "\n",
    "    train, validate = train_test_split(train_validate, random_state = 1349, train_size=.7, stratify=train_validate.language)\n",
    "    \n",
    "    return train, validate, test"
   ]
  },
  {
   "cell_type": "code",
   "execution_count": 13,
   "id": "43548235",
   "metadata": {},
   "outputs": [],
   "source": [
    "train, validate, test = split_data()"
   ]
  },
  {
   "cell_type": "code",
   "execution_count": 14,
   "id": "7cae55d6",
   "metadata": {},
   "outputs": [
    {
     "data": {
      "text/plain": [
       "((91, 6), (40, 6), (33, 6))"
      ]
     },
     "execution_count": 14,
     "metadata": {},
     "output_type": "execute_result"
    }
   ],
   "source": [
    "train.shape, validate.shape, test.shape"
   ]
  },
  {
   "cell_type": "code",
   "execution_count": null,
   "id": "d427520d",
   "metadata": {},
   "outputs": [],
   "source": [
    "# Prepare for modeling"
   ]
  },
  {
   "cell_type": "code",
   "execution_count": 18,
   "id": "eefd87ab",
   "metadata": {},
   "outputs": [],
   "source": [
    "def modeling_prep():\n",
    "    \n",
    "    train, validate, test = split_data()\n",
    "    X_train = train['lemmatized']\n",
    "    X_validate = validate['lemmatized']\n",
    "    X_test = test['lemmatized']\n",
    "    y_train = train['language']\n",
    "    y_validate = validate['language']\n",
    "    y_test = test['language']\n",
    "    return X_train, X_validate, X_test, y_train, y_validate, y_test"
   ]
  },
  {
   "cell_type": "code",
   "execution_count": 19,
   "id": "550b3fd3",
   "metadata": {},
   "outputs": [],
   "source": [
    "X_train, X_validate, X_test, y_train, y_validate, y_test = modeling_prep()"
   ]
  },
  {
   "cell_type": "code",
   "execution_count": null,
   "id": "ce39e6c3",
   "metadata": {},
   "outputs": [],
   "source": []
  },
  {
   "cell_type": "code",
   "execution_count": null,
   "id": "987770e1",
   "metadata": {},
   "outputs": [],
   "source": []
  },
  {
   "cell_type": "code",
   "execution_count": null,
   "id": "352a9afd",
   "metadata": {},
   "outputs": [],
   "source": []
  },
  {
   "cell_type": "code",
   "execution_count": null,
   "id": "4ed28852",
   "metadata": {},
   "outputs": [],
   "source": []
  },
  {
   "cell_type": "code",
   "execution_count": null,
   "id": "44349cd7",
   "metadata": {},
   "outputs": [],
   "source": []
  },
  {
   "cell_type": "code",
   "execution_count": null,
   "id": "a34bda32",
   "metadata": {},
   "outputs": [],
   "source": []
  },
  {
   "cell_type": "code",
   "execution_count": null,
   "id": "d59e53b7",
   "metadata": {},
   "outputs": [],
   "source": []
  },
  {
   "cell_type": "code",
   "execution_count": null,
   "id": "e00f46b9",
   "metadata": {},
   "outputs": [],
   "source": []
  },
  {
   "cell_type": "code",
   "execution_count": null,
   "id": "a524fa06",
   "metadata": {},
   "outputs": [],
   "source": []
  },
  {
   "cell_type": "code",
   "execution_count": null,
   "id": "9d782a0b",
   "metadata": {},
   "outputs": [],
   "source": []
  },
  {
   "cell_type": "code",
   "execution_count": null,
   "id": "2d04807b",
   "metadata": {},
   "outputs": [],
   "source": []
  },
  {
   "cell_type": "code",
   "execution_count": null,
   "id": "eece58db",
   "metadata": {},
   "outputs": [],
   "source": []
  },
  {
   "cell_type": "code",
   "execution_count": null,
   "id": "b0f4615d",
   "metadata": {},
   "outputs": [],
   "source": []
  },
  {
   "cell_type": "code",
   "execution_count": null,
   "id": "a7b75dc2",
   "metadata": {},
   "outputs": [],
   "source": []
  },
  {
   "cell_type": "code",
   "execution_count": null,
   "id": "0b5fc0a2",
   "metadata": {},
   "outputs": [],
   "source": []
  }
 ],
 "metadata": {
  "kernelspec": {
   "display_name": "Python 3 (ipykernel)",
   "language": "python",
   "name": "python3"
  },
  "language_info": {
   "codemirror_mode": {
    "name": "ipython",
    "version": 3
   },
   "file_extension": ".py",
   "mimetype": "text/x-python",
   "name": "python",
   "nbconvert_exporter": "python",
   "pygments_lexer": "ipython3",
   "version": "3.9.13"
  }
 },
 "nbformat": 4,
 "nbformat_minor": 5
}
