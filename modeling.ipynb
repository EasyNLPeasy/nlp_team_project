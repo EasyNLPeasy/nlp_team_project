{
 "cells": [
  {
   "cell_type": "markdown",
   "id": "325da2c3-7027-432e-95dd-1926fb7c2e6f",
   "metadata": {},
   "source": [
    "# NLP Project: Modeling"
   ]
  },
  {
   "cell_type": "code",
   "execution_count": 26,
   "id": "16346e1b-0a42-4544-b10a-178f140be30e",
   "metadata": {},
   "outputs": [],
   "source": [
    "# general imports\n",
    "import numpy as np\n",
    "import pandas as pd\n",
    "import itertools\n",
    "\n",
    "# classification tools\n",
    "from sklearn.tree import DecisionTreeClassifier, export_text, plot_tree\n",
    "from sklearn.ensemble import RandomForestClassifier\n",
    "from sklearn.neighbors import KNeighborsClassifier\n",
    "from sklearn.linear_model import LogisticRegression\n",
    "\n",
    "# local modules\n",
    "import wrangle as w"
   ]
  },
  {
   "cell_type": "markdown",
   "id": "f31d619c-ff52-4dbc-a831-91a608220b58",
   "metadata": {},
   "source": [
    "#### **Goal:** To use *classification* algorithms to build a model that accurately predicts the primary coding language based on vectorized README text and features engineered from that text."
   ]
  },
  {
   "cell_type": "markdown",
   "id": "d8b04b8b-404f-4953-8f92-978a2f185ab6",
   "metadata": {},
   "source": [
    "#### **Success Metric:** Accuracy (Total Correct Predictions/ Total Predictions)\n",
    "- Accuracy is a good metric since we the cost/benefit of false positive predictions and false negative predictions are the same.\n",
    "- The classes are split roughly in thirds so they are not terribly imbalanced."
   ]
  },
  {
   "cell_type": "markdown",
   "id": "2133ddbe-4ff9-462e-994f-1f1948b120de",
   "metadata": {},
   "source": [
    "#### **Methodology:**\n",
    "- For each class(language) we will evaluate model accuracy at predicting that class(positive).\n",
    "- The accuracy data for all three classes will then be averaged using a weighted average by size of class.\n",
    "- The model with the best balance of highest weighted average accuracy and least dropoff in accuracy on the validation set will be selected.\n",
    "- The selected model will then be assessed for production against the test dataset."
   ]
  },
  {
   "cell_type": "markdown",
   "id": "30a56452-92ce-4e08-a226-5f9a5050591a",
   "metadata": {},
   "source": [
    "#### **Algorithms:**\n",
    "- Decision Tree Classifier\n",
    "- Random Forest Classifier\n",
    "- K Nearest Neighbors\n",
    "- Logistic Regression\n",
    "- Naive Bayes"
   ]
  },
  {
   "cell_type": "markdown",
   "id": "ed5c388e-702f-4f7e-9c19-7bb3d81bf851",
   "metadata": {},
   "source": [
    "#### **Features:** the elements the model will use to make predictions\n",
    "    \n",
    "- Count-vectorized words\n",
    "- TF/IDF vectorized words\n",
    "- Total document word count\n"
   ]
  },
  {
   "cell_type": "markdown",
   "id": "8ccdd4b6-c33e-4501-9dcc-e67de21ee096",
   "metadata": {},
   "source": [
    "#### **Baseline Model:**\n",
    "\n",
    "- While the classes are fairly evenly balanced, 'Python' has the most observations at 58 and will be used as the prediction for the baseline model."
   ]
  },
  {
   "cell_type": "markdown",
   "id": "e21d376b-5483-400a-addb-d6f37584b34a",
   "metadata": {},
   "source": [
    "#### **Algorithm 1: Random Forest Classifier:**"
   ]
  },
  {
   "cell_type": "markdown",
   "id": "5674259d-b1ec-489f-bcac-e5bd071e3d43",
   "metadata": {},
   "source": [
    "##### I want to test the random forest classifier for a range of parameters:\n",
    "- bootstrap = True or False\n",
    "- min_samples_leaf = range from 1-9\n",
    "- max_depth = range from 1-9\n"
   ]
  },
  {
   "cell_type": "code",
   "execution_count": 44,
   "id": "3931041f-810f-4628-a4cf-ec103bd6a1af",
   "metadata": {},
   "outputs": [],
   "source": [
    "def rf_classification(df, df_val, target, least_min_samples_leaf=1, \n",
    "                      most_min_samples_leaf=10, min_max_depth=1, max_max_depth=10):\n",
    "    '''\n",
    "    Perform random forest classification on the given data.\n",
    "\n",
    "    Args:\n",
    "        df (DataFrame): The training DataFrame containing the feature columns and the \n",
    "        target column.\n",
    "        df_val (DataFrame): The validation (or test) DataFrame containing the feature \n",
    "        columns and the target column.\n",
    "        target (str): The name of the target column.\n",
    "        least_min_samples_leaf (int): The low range of the minimum samples per leaf.\n",
    "        most_min_samples_leaf (int): The high range of the minimum  samples per leaf.\n",
    "        min_max_depth (int): The low range of the minimum depth of the tree.\n",
    "        max_max_depth (int): The high range of the minimum depth of the tree.\n",
    "\n",
    "  \n",
    "    Returns:\n",
    "        DataFrame: A DataFrame containing the combinations of hyperparameters and their \n",
    "        corresponding accuracy scores on the training and validation data. An 'algorithm' \n",
    "        column is added to denote DecisionTree.\n",
    "    '''\n",
    "    X_train = df.drop(columns=target)\n",
    "    y_train = df[target]\n",
    "    X_val = df_val.drop(columns=target)\n",
    "    y_val = df_val[target]\n",
    "    \n",
    "    rf_models = {}\n",
    "    bootstrap = (True, False)\n",
    "    sizes = range(least_min_samples_leaf, most_min_samples_leaf)\n",
    "    depths = range(min_max_depth, max_max_depth)\n",
    "    hyper_list = list(itertools.product(bootstrap, sizes, depths))\n",
    "    \n",
    "    for hyperparams in hyper_list:\n",
    "        rf = RandomForestClassifier(bootstrap=hyperparams[0], \n",
    "                            class_weight=None, \n",
    "                            criterion='gini',\n",
    "                            min_samples_leaf=hyperparams[1],\n",
    "                            n_estimators=100,\n",
    "                            max_depth=hyperparams[2], \n",
    "                            random_state=9751)\n",
    "        rf.fit(X_train, y_train)\n",
    "        preds = rf.predict(X_train)\n",
    "        accuracy_train = rf.score(X_train, y_train)\n",
    "        accuracy_val = rf.score(X_val, y_val)\n",
    "        rf_models[hyperparams] = accuracy_train, accuracy_val\n",
    "   \n",
    "    df = pd.DataFrame([{'hyperparams': k, 'accuracy_train': v[0],\n",
    "                          'accuracy_val': v[1]} for k, v in rf_models.items()])\n",
    "    df['algorithm'] = 'random_forest'\n",
    "    \n",
    "    return df"
   ]
  },
  {
   "cell_type": "code",
   "execution_count": 45,
   "id": "3b0868f2-5dd4-404a-9174-b1504cf07451",
   "metadata": {},
   "outputs": [],
   "source": [
    "def dt_classification(df, df_val, target, least_min_samples_leaf=1, \n",
    "                      most_min_samples_leaf=10, min_max_depth=1, max_max_depth=10):\n",
    "    '''\n",
    "    Perform decision tree classification on the given data.\n",
    "\n",
    "    Args:\n",
    "        df (DataFrame): The training DataFrame containing the feature columns and the \n",
    "        target column.\n",
    "        df_val (DataFrame): The validation (or test) DataFrame containing the feature \n",
    "        columns and the target column.\n",
    "        target (str): The name of the target column.\n",
    "        least_min_samples_leaf (int): The low range of the minimum samples per leaf.\n",
    "        most_min_samples_leaf (int): The high range of the minimum  samples per leaf.\n",
    "        min_max_depth (int): The low range of the minimum depth of the tree.\n",
    "        max_max_depth (int): The high range of the minimum depth of the tree.\n",
    "\n",
    "    Returns:\n",
    "        DataFrame: A DataFrame containing the combinations of hyperparameters and their \n",
    "        corresponding accuracy scores on the training and validation data. An 'algorithm' \n",
    "        column is added to denote DecisionTree.\n",
    "    '''\n",
    "    X_train = df.drop(columns=target)\n",
    "    y_train = df[target]\n",
    "    X_val = df_val.drop(columns=target)\n",
    "    y_val = df_val[target]\n",
    "    \n",
    "    dt_models = {}\n",
    "    sizes = range(least_min_samples_leaf, most_min_samples_leaf)\n",
    "    depths = range(min_max_depth, max_max_depth)\n",
    "    hyper_list = list(itertools.product(sizes, depths))\n",
    "    \n",
    "    for hyperparams in hyper_list:\n",
    "        dt = DecisionTreeClassifier( \n",
    "                            criterion='gini',\n",
    "                            min_samples_leaf=hyperparams[0],\n",
    "                            max_depth=hyperparams[1], \n",
    "                            random_state=9751)\n",
    "        dt.fit(X_train, y_train)\n",
    "        preds = dt.predict(X_train)\n",
    "        accuracy_train = dt.score(X_train, y_train)\n",
    "        accuracy_val = dt.score(X_val, y_val)\n",
    "        dt_models[hyperparams] = accuracy_train, accuracy_val\n",
    "   \n",
    "    df = pd.DataFrame([{'hyperparams': k, 'accuracy_train': v[0],\n",
    "                          'accuracy_val': v[1]} for k, v in dt_models.items()])\n",
    "    df['algorithm'] = 'decision_tree'\n",
    "    \n",
    "    return df"
   ]
  },
  {
   "cell_type": "code",
   "execution_count": 3,
   "id": "4f92504d-749b-44cd-9fe6-6eda1b181ead",
   "metadata": {},
   "outputs": [],
   "source": [
    "from pydataset import data\n",
    "df = data('iris')"
   ]
  },
  {
   "cell_type": "code",
   "execution_count": 15,
   "id": "dc8632ef-6e30-4a7c-983c-f7cc68b53317",
   "metadata": {},
   "outputs": [
    {
     "data": {
      "text/html": [
       "<div>\n",
       "<style scoped>\n",
       "    .dataframe tbody tr th:only-of-type {\n",
       "        vertical-align: middle;\n",
       "    }\n",
       "\n",
       "    .dataframe tbody tr th {\n",
       "        vertical-align: top;\n",
       "    }\n",
       "\n",
       "    .dataframe thead th {\n",
       "        text-align: right;\n",
       "    }\n",
       "</style>\n",
       "<table border=\"1\" class=\"dataframe\">\n",
       "  <thead>\n",
       "    <tr style=\"text-align: right;\">\n",
       "      <th></th>\n",
       "      <th>Sepal.Length</th>\n",
       "      <th>Sepal.Width</th>\n",
       "      <th>Petal.Length</th>\n",
       "      <th>Petal.Width</th>\n",
       "      <th>Species</th>\n",
       "    </tr>\n",
       "  </thead>\n",
       "  <tbody>\n",
       "    <tr>\n",
       "      <th>1</th>\n",
       "      <td>5.1</td>\n",
       "      <td>3.5</td>\n",
       "      <td>1.4</td>\n",
       "      <td>0.2</td>\n",
       "      <td>setosa</td>\n",
       "    </tr>\n",
       "    <tr>\n",
       "      <th>2</th>\n",
       "      <td>4.9</td>\n",
       "      <td>3.0</td>\n",
       "      <td>1.4</td>\n",
       "      <td>0.2</td>\n",
       "      <td>setosa</td>\n",
       "    </tr>\n",
       "    <tr>\n",
       "      <th>3</th>\n",
       "      <td>4.7</td>\n",
       "      <td>3.2</td>\n",
       "      <td>1.3</td>\n",
       "      <td>0.2</td>\n",
       "      <td>setosa</td>\n",
       "    </tr>\n",
       "    <tr>\n",
       "      <th>4</th>\n",
       "      <td>4.6</td>\n",
       "      <td>3.1</td>\n",
       "      <td>1.5</td>\n",
       "      <td>0.2</td>\n",
       "      <td>setosa</td>\n",
       "    </tr>\n",
       "    <tr>\n",
       "      <th>5</th>\n",
       "      <td>5.0</td>\n",
       "      <td>3.6</td>\n",
       "      <td>1.4</td>\n",
       "      <td>0.2</td>\n",
       "      <td>setosa</td>\n",
       "    </tr>\n",
       "  </tbody>\n",
       "</table>\n",
       "</div>"
      ],
      "text/plain": [
       "   Sepal.Length  Sepal.Width  Petal.Length  Petal.Width Species\n",
       "1           5.1          3.5           1.4          0.2  setosa\n",
       "2           4.9          3.0           1.4          0.2  setosa\n",
       "3           4.7          3.2           1.3          0.2  setosa\n",
       "4           4.6          3.1           1.5          0.2  setosa\n",
       "5           5.0          3.6           1.4          0.2  setosa"
      ]
     },
     "execution_count": 15,
     "metadata": {},
     "output_type": "execute_result"
    }
   ],
   "source": [
    "df.head()"
   ]
  },
  {
   "cell_type": "code",
   "execution_count": 19,
   "id": "fd7b17f8-eeee-4f2f-8939-e7ccca3842cb",
   "metadata": {},
   "outputs": [],
   "source": [
    "from sklearn.model_selection import train_test_split"
   ]
  },
  {
   "cell_type": "code",
   "execution_count": 23,
   "id": "4df84677-b8d6-479d-9a3b-9791590ceeac",
   "metadata": {},
   "outputs": [],
   "source": [
    "train, test = train_test_split(df, train_size=.7, stratify=df['Species'])"
   ]
  },
  {
   "cell_type": "code",
   "execution_count": 24,
   "id": "1a1c3c41-397e-403b-bfc3-ab0a58e0629a",
   "metadata": {},
   "outputs": [
    {
     "data": {
      "text/html": [
       "<div>\n",
       "<style scoped>\n",
       "    .dataframe tbody tr th:only-of-type {\n",
       "        vertical-align: middle;\n",
       "    }\n",
       "\n",
       "    .dataframe tbody tr th {\n",
       "        vertical-align: top;\n",
       "    }\n",
       "\n",
       "    .dataframe thead th {\n",
       "        text-align: right;\n",
       "    }\n",
       "</style>\n",
       "<table border=\"1\" class=\"dataframe\">\n",
       "  <thead>\n",
       "    <tr style=\"text-align: right;\">\n",
       "      <th></th>\n",
       "      <th>Sepal.Length</th>\n",
       "      <th>Sepal.Width</th>\n",
       "      <th>Petal.Length</th>\n",
       "      <th>Petal.Width</th>\n",
       "      <th>Species</th>\n",
       "    </tr>\n",
       "  </thead>\n",
       "  <tbody>\n",
       "    <tr>\n",
       "      <th>18</th>\n",
       "      <td>5.1</td>\n",
       "      <td>3.5</td>\n",
       "      <td>1.4</td>\n",
       "      <td>0.3</td>\n",
       "      <td>setosa</td>\n",
       "    </tr>\n",
       "    <tr>\n",
       "      <th>137</th>\n",
       "      <td>6.3</td>\n",
       "      <td>3.4</td>\n",
       "      <td>5.6</td>\n",
       "      <td>2.4</td>\n",
       "      <td>virginica</td>\n",
       "    </tr>\n",
       "    <tr>\n",
       "      <th>35</th>\n",
       "      <td>4.9</td>\n",
       "      <td>3.1</td>\n",
       "      <td>1.5</td>\n",
       "      <td>0.2</td>\n",
       "      <td>setosa</td>\n",
       "    </tr>\n",
       "    <tr>\n",
       "      <th>45</th>\n",
       "      <td>5.1</td>\n",
       "      <td>3.8</td>\n",
       "      <td>1.9</td>\n",
       "      <td>0.4</td>\n",
       "      <td>setosa</td>\n",
       "    </tr>\n",
       "    <tr>\n",
       "      <th>149</th>\n",
       "      <td>6.2</td>\n",
       "      <td>3.4</td>\n",
       "      <td>5.4</td>\n",
       "      <td>2.3</td>\n",
       "      <td>virginica</td>\n",
       "    </tr>\n",
       "  </tbody>\n",
       "</table>\n",
       "</div>"
      ],
      "text/plain": [
       "     Sepal.Length  Sepal.Width  Petal.Length  Petal.Width    Species\n",
       "18            5.1          3.5           1.4          0.3     setosa\n",
       "137           6.3          3.4           5.6          2.4  virginica\n",
       "35            4.9          3.1           1.5          0.2     setosa\n",
       "45            5.1          3.8           1.9          0.4     setosa\n",
       "149           6.2          3.4           5.4          2.3  virginica"
      ]
     },
     "execution_count": 24,
     "metadata": {},
     "output_type": "execute_result"
    }
   ],
   "source": [
    "train.head()"
   ]
  },
  {
   "cell_type": "code",
   "execution_count": 46,
   "id": "260544a4-adb7-4a47-95c6-11f0f2ecf818",
   "metadata": {},
   "outputs": [],
   "source": [
    "rf_model_performance = rf_classification(train, test, 'Species')"
   ]
  },
  {
   "cell_type": "code",
   "execution_count": 48,
   "id": "14c1ecfe-231b-4a0d-b751-9057b7a8fdc1",
   "metadata": {
    "tags": []
   },
   "outputs": [
    {
     "data": {
      "text/html": [
       "<div>\n",
       "<style scoped>\n",
       "    .dataframe tbody tr th:only-of-type {\n",
       "        vertical-align: middle;\n",
       "    }\n",
       "\n",
       "    .dataframe tbody tr th {\n",
       "        vertical-align: top;\n",
       "    }\n",
       "\n",
       "    .dataframe thead th {\n",
       "        text-align: right;\n",
       "    }\n",
       "</style>\n",
       "<table border=\"1\" class=\"dataframe\">\n",
       "  <thead>\n",
       "    <tr style=\"text-align: right;\">\n",
       "      <th></th>\n",
       "      <th>hyperparams</th>\n",
       "      <th>accuracy_train</th>\n",
       "      <th>accuracy_val</th>\n",
       "      <th>algorithm</th>\n",
       "    </tr>\n",
       "  </thead>\n",
       "  <tbody>\n",
       "    <tr>\n",
       "      <th>0</th>\n",
       "      <td>(True, 1, 1)</td>\n",
       "      <td>0.972603</td>\n",
       "      <td>0.96875</td>\n",
       "      <td>random_forest</td>\n",
       "    </tr>\n",
       "    <tr>\n",
       "      <th>1</th>\n",
       "      <td>(True, 1, 2)</td>\n",
       "      <td>0.958904</td>\n",
       "      <td>0.96875</td>\n",
       "      <td>random_forest</td>\n",
       "    </tr>\n",
       "    <tr>\n",
       "      <th>2</th>\n",
       "      <td>(True, 1, 3)</td>\n",
       "      <td>0.986301</td>\n",
       "      <td>0.96875</td>\n",
       "      <td>random_forest</td>\n",
       "    </tr>\n",
       "    <tr>\n",
       "      <th>3</th>\n",
       "      <td>(True, 1, 4)</td>\n",
       "      <td>1.000000</td>\n",
       "      <td>0.96875</td>\n",
       "      <td>random_forest</td>\n",
       "    </tr>\n",
       "    <tr>\n",
       "      <th>4</th>\n",
       "      <td>(True, 1, 5)</td>\n",
       "      <td>1.000000</td>\n",
       "      <td>0.96875</td>\n",
       "      <td>random_forest</td>\n",
       "    </tr>\n",
       "  </tbody>\n",
       "</table>\n",
       "</div>"
      ],
      "text/plain": [
       "    hyperparams  accuracy_train  accuracy_val      algorithm\n",
       "0  (True, 1, 1)        0.972603       0.96875  random_forest\n",
       "1  (True, 1, 2)        0.958904       0.96875  random_forest\n",
       "2  (True, 1, 3)        0.986301       0.96875  random_forest\n",
       "3  (True, 1, 4)        1.000000       0.96875  random_forest\n",
       "4  (True, 1, 5)        1.000000       0.96875  random_forest"
      ]
     },
     "execution_count": 48,
     "metadata": {},
     "output_type": "execute_result"
    }
   ],
   "source": [
    "rf_model_performance.head()"
   ]
  },
  {
   "cell_type": "code",
   "execution_count": 49,
   "id": "c6ae5366-8ef1-4661-8008-4ee472e79d7d",
   "metadata": {},
   "outputs": [
    {
     "data": {
      "text/plain": [
       "hyperparams        (True, 9, 9)\n",
       "accuracy_train              1.0\n",
       "accuracy_val            0.96875\n",
       "algorithm         random_forest\n",
       "dtype: object"
      ]
     },
     "execution_count": 49,
     "metadata": {},
     "output_type": "execute_result"
    }
   ],
   "source": [
    "rf_model_performance.sort_values('accuracy_val', ascending=False).max()"
   ]
  },
  {
   "cell_type": "code",
   "execution_count": 50,
   "id": "d41cebc4-9a4f-4157-a574-697e0d895751",
   "metadata": {},
   "outputs": [],
   "source": [
    "dt_model_performance = dt_classification(train, test, 'Species')"
   ]
  },
  {
   "cell_type": "code",
   "execution_count": 52,
   "id": "68721362-0fa3-4bd3-b888-9b7d142e28b4",
   "metadata": {},
   "outputs": [
    {
     "data": {
      "text/html": [
       "<div>\n",
       "<style scoped>\n",
       "    .dataframe tbody tr th:only-of-type {\n",
       "        vertical-align: middle;\n",
       "    }\n",
       "\n",
       "    .dataframe tbody tr th {\n",
       "        vertical-align: top;\n",
       "    }\n",
       "\n",
       "    .dataframe thead th {\n",
       "        text-align: right;\n",
       "    }\n",
       "</style>\n",
       "<table border=\"1\" class=\"dataframe\">\n",
       "  <thead>\n",
       "    <tr style=\"text-align: right;\">\n",
       "      <th></th>\n",
       "      <th>hyperparams</th>\n",
       "      <th>accuracy_train</th>\n",
       "      <th>accuracy_val</th>\n",
       "      <th>algorithm</th>\n",
       "    </tr>\n",
       "  </thead>\n",
       "  <tbody>\n",
       "    <tr>\n",
       "      <th>0</th>\n",
       "      <td>(1, 1)</td>\n",
       "      <td>0.671233</td>\n",
       "      <td>0.65625</td>\n",
       "      <td>decision_tree</td>\n",
       "    </tr>\n",
       "    <tr>\n",
       "      <th>1</th>\n",
       "      <td>(1, 2)</td>\n",
       "      <td>0.958904</td>\n",
       "      <td>0.96875</td>\n",
       "      <td>decision_tree</td>\n",
       "    </tr>\n",
       "    <tr>\n",
       "      <th>2</th>\n",
       "      <td>(1, 3)</td>\n",
       "      <td>0.972603</td>\n",
       "      <td>0.96875</td>\n",
       "      <td>decision_tree</td>\n",
       "    </tr>\n",
       "    <tr>\n",
       "      <th>3</th>\n",
       "      <td>(1, 4)</td>\n",
       "      <td>1.000000</td>\n",
       "      <td>0.96875</td>\n",
       "      <td>decision_tree</td>\n",
       "    </tr>\n",
       "    <tr>\n",
       "      <th>4</th>\n",
       "      <td>(1, 5)</td>\n",
       "      <td>1.000000</td>\n",
       "      <td>0.96875</td>\n",
       "      <td>decision_tree</td>\n",
       "    </tr>\n",
       "  </tbody>\n",
       "</table>\n",
       "</div>"
      ],
      "text/plain": [
       "  hyperparams  accuracy_train  accuracy_val      algorithm\n",
       "0      (1, 1)        0.671233       0.65625  decision_tree\n",
       "1      (1, 2)        0.958904       0.96875  decision_tree\n",
       "2      (1, 3)        0.972603       0.96875  decision_tree\n",
       "3      (1, 4)        1.000000       0.96875  decision_tree\n",
       "4      (1, 5)        1.000000       0.96875  decision_tree"
      ]
     },
     "execution_count": 52,
     "metadata": {},
     "output_type": "execute_result"
    }
   ],
   "source": [
    "dt_model_performance.head()"
   ]
  },
  {
   "cell_type": "code",
   "execution_count": 53,
   "id": "cd9725ee-eb9b-4ab2-af01-9234edb4e5aa",
   "metadata": {},
   "outputs": [
    {
     "data": {
      "text/plain": [
       "hyperparams              (9, 9)\n",
       "accuracy_train              1.0\n",
       "accuracy_val            0.96875\n",
       "algorithm         decision_tree\n",
       "dtype: object"
      ]
     },
     "execution_count": 53,
     "metadata": {},
     "output_type": "execute_result"
    }
   ],
   "source": [
    "dt_model_performance.sort_values('accuracy_val', ascending=False).max()"
   ]
  },
  {
   "cell_type": "code",
   "execution_count": null,
   "id": "579c9b2b-8952-4ad1-a763-1e8b1f0aaba5",
   "metadata": {},
   "outputs": [],
   "source": []
  }
 ],
 "metadata": {
  "kernelspec": {
   "display_name": "Python 3 (ipykernel)",
   "language": "python",
   "name": "python3"
  },
  "language_info": {
   "codemirror_mode": {
    "name": "ipython",
    "version": 3
   },
   "file_extension": ".py",
   "mimetype": "text/x-python",
   "name": "python",
   "nbconvert_exporter": "python",
   "pygments_lexer": "ipython3",
   "version": "3.9.13"
  }
 },
 "nbformat": 4,
 "nbformat_minor": 5
}
