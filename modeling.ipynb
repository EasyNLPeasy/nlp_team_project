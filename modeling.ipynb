{
 "cells": [
  {
   "cell_type": "markdown",
   "id": "325da2c3-7027-432e-95dd-1926fb7c2e6f",
   "metadata": {},
   "source": [
    "# NLP Project: Modeling"
   ]
  },
  {
   "cell_type": "code",
   "execution_count": 86,
   "id": "16346e1b-0a42-4544-b10a-178f140be30e",
   "metadata": {},
   "outputs": [],
   "source": [
    "# general imports\n",
    "import numpy as np\n",
    "import pandas as pd\n",
    "import itertools\n",
    "\n",
    "# classification tools\n",
    "from sklearn.tree import DecisionTreeClassifier, export_text, plot_tree\n",
    "from sklearn.ensemble import RandomForestClassifier\n",
    "from sklearn.neighbors import KNeighborsClassifier\n",
    "from sklearn.linear_model import LogisticRegression\n",
    "from sklearn.naive_bayes import ComplementNB, MultinomialNB\n",
    "\n",
    "# local modules\n",
    "import wrangle as w\n",
    "\n",
    "# warnings\n",
    "import warnings\n",
    "warnings.filterwarnings('ignore')"
   ]
  },
  {
   "cell_type": "markdown",
   "id": "f31d619c-ff52-4dbc-a831-91a608220b58",
   "metadata": {},
   "source": [
    "#### **Goal:** To use *classification* algorithms to build a model that accurately predicts the primary coding language based on vectorized README text and features engineered from that text."
   ]
  },
  {
   "cell_type": "markdown",
   "id": "d8b04b8b-404f-4953-8f92-978a2f185ab6",
   "metadata": {},
   "source": [
    "#### **Success Metric:** Accuracy (Total Correct Predictions/ Total Predictions)\n",
    "- Accuracy is a good metric since we the cost/benefit of false positive predictions and false negative predictions are the same.\n",
    "- The classes are split roughly in thirds so they are not terribly imbalanced."
   ]
  },
  {
   "cell_type": "markdown",
   "id": "2133ddbe-4ff9-462e-994f-1f1948b120de",
   "metadata": {},
   "source": [
    "#### **Methodology:**\n",
    "- For each class(language) we will evaluate model accuracy at predicting that class(positive).\n",
    "- The accuracy data for all three classes will then be averaged using a weighted average by size of class.\n",
    "- The model with the best balance of highest weighted average accuracy and least dropoff in accuracy on the validation set will be selected.\n",
    "- The selected model will then be assessed for production against the test dataset."
   ]
  },
  {
   "cell_type": "markdown",
   "id": "30a56452-92ce-4e08-a226-5f9a5050591a",
   "metadata": {},
   "source": [
    "#### **Algorithms:**\n",
    "- Decision Tree Classifier\n",
    "- Random Forest Classifier\n",
    "- K Nearest Neighbors\n",
    "- Logistic Regression\n",
    "- Naive Bayes"
   ]
  },
  {
   "cell_type": "markdown",
   "id": "ed5c388e-702f-4f7e-9c19-7bb3d81bf851",
   "metadata": {},
   "source": [
    "#### **Features:** the elements the model will use to make predictions\n",
    "    \n",
    "- Count-vectorized words\n",
    "- TF/IDF vectorized words\n",
    "- Total document word count\n"
   ]
  },
  {
   "cell_type": "markdown",
   "id": "8ccdd4b6-c33e-4501-9dcc-e67de21ee096",
   "metadata": {},
   "source": [
    "#### **Baseline Model:**\n",
    "\n",
    "- While the classes are fairly evenly balanced, 'Python' has the most observations at 58 and will be used as the prediction for the baseline model."
   ]
  },
  {
   "cell_type": "markdown",
   "id": "e21d376b-5483-400a-addb-d6f37584b34a",
   "metadata": {},
   "source": [
    "#### **Algorithm 1: Random Forest Classifier:**"
   ]
  },
  {
   "cell_type": "markdown",
   "id": "5674259d-b1ec-489f-bcac-e5bd071e3d43",
   "metadata": {},
   "source": [
    "##### I want to test the random forest classifier for a range of hyperparameters:\n",
    "- bootstrap = True or False\n",
    "- min_samples_leaf = range from 1-9\n",
    "- max_depth = range from 1-9\n"
   ]
  },
  {
   "cell_type": "code",
   "execution_count": 55,
   "id": "3931041f-810f-4628-a4cf-ec103bd6a1af",
   "metadata": {},
   "outputs": [],
   "source": [
    "def rf_classification(df, df_val, target, least_min_samples_leaf=1, \n",
    "                      most_min_samples_leaf=10, min_max_depth=1, max_max_depth=10):\n",
    "    '''\n",
    "    Perform random forest classification on the given data.\n",
    "\n",
    "    Args:\n",
    "        df (DataFrame): The training DataFrame containing the feature columns and the \n",
    "        target column.\n",
    "        df_val (DataFrame): The validation (or test) DataFrame containing the feature \n",
    "        columns and the target column.\n",
    "        target (str): The name of the target column.\n",
    "        least_min_samples_leaf (int): The low range of the minimum samples per leaf.\n",
    "        most_min_samples_leaf (int): The high range of the minimum  samples per leaf.\n",
    "        min_max_depth (int): The low range of the minimum depth of the tree.\n",
    "        max_max_depth (int): The high range of the minimum depth of the tree.\n",
    "\n",
    "  \n",
    "    Returns:\n",
    "        DataFrame: A DataFrame containing the combinations of hyperparameters and their \n",
    "        corresponding accuracy scores on the training and validation data. An 'algorithm' \n",
    "        column is added to denote random_forest.\n",
    "    '''\n",
    "    X_train = df.drop(columns=target)\n",
    "    y_train = df[target]\n",
    "    X_val = df_val.drop(columns=target)\n",
    "    y_val = df_val[target]\n",
    "    \n",
    "    rf_models = {}\n",
    "    bootstrap = (True, False)\n",
    "    sizes = range(least_min_samples_leaf, most_min_samples_leaf)\n",
    "    depths = range(min_max_depth, max_max_depth)\n",
    "    hyper_list = list(itertools.product(bootstrap, sizes, depths))\n",
    "    \n",
    "    for hyperparams in hyper_list:\n",
    "        rf = RandomForestClassifier(bootstrap=hyperparams[0], \n",
    "                            class_weight=None, \n",
    "                            criterion='gini',\n",
    "                            min_samples_leaf=hyperparams[1],\n",
    "                            n_estimators=100,\n",
    "                            max_depth=hyperparams[2], \n",
    "                            random_state=9751)\n",
    "        rf.fit(X_train, y_train)\n",
    "        preds = rf.predict(X_train)\n",
    "        accuracy_train = rf.score(X_train, y_train)\n",
    "        accuracy_val = rf.score(X_val, y_val)\n",
    "        rf_models[hyperparams] = accuracy_train, accuracy_val\n",
    "   \n",
    "    df = pd.DataFrame([{'hyperparams': k, 'accuracy_train': v[0],\n",
    "                          'accuracy_val': v[1]} for k, v in rf_models.items()])\n",
    "    df['algorithm'] = 'random_forest'\n",
    "    \n",
    "    return df"
   ]
  },
  {
   "cell_type": "markdown",
   "id": "c5611e47-4e86-4c4b-9e5b-7140f3d480d3",
   "metadata": {},
   "source": [
    "#### **Algorithm 2: Decision Tree Classifier:**"
   ]
  },
  {
   "cell_type": "markdown",
   "id": "ecc4db42-6d34-46cf-9c7f-f0da6d212fd1",
   "metadata": {},
   "source": [
    "##### I want to test the decision tree classifier for a range of hyperparameters:\n",
    "- min_samples_leaf = range from 1-9\n",
    "- max_depth = range from 1-9\n"
   ]
  },
  {
   "cell_type": "code",
   "execution_count": 94,
   "id": "3b0868f2-5dd4-404a-9174-b1504cf07451",
   "metadata": {},
   "outputs": [],
   "source": [
    "def dt_classification(df, df_val, target, least_min_samples_leaf=1, \n",
    "                      most_min_samples_leaf=10, min_max_depth=1, max_max_depth=10):\n",
    "    '''\n",
    "    Perform decision tree classification on the given data.\n",
    "\n",
    "    Args:\n",
    "        df (DataFrame): The training DataFrame containing the feature columns and the \n",
    "        target column.\n",
    "        df_val (DataFrame): The validation (or test) DataFrame containing the feature \n",
    "        columns and the target column.\n",
    "        target (str): The name of the target column.\n",
    "        least_min_samples_leaf (int): The low range of the minimum samples per leaf.\n",
    "        most_min_samples_leaf (int): The high range of the minimum  samples per leaf.\n",
    "        min_max_depth (int): The low range of the minimum depth of the tree.\n",
    "        max_max_depth (int): The high range of the minimum depth of the tree.\n",
    "\n",
    "    Returns:\n",
    "        DataFrame: A DataFrame containing the combinations of hyperparameters and their \n",
    "        corresponding accuracy scores on the training and validation data. An 'algorithm' \n",
    "        column is added to denote decision_tree.\n",
    "    '''\n",
    "    X_train = df.drop(columns=target)\n",
    "    y_train = df[target]\n",
    "    X_val = df_val.drop(columns=target)\n",
    "    y_val = df_val[target]\n",
    "    \n",
    "    dt_models = {}\n",
    "    sizes = range(least_min_samples_leaf, (most_min_samples_leaf +1))\n",
    "    depths = range(min_max_depth, (max_max_depth + 1))\n",
    "    hyper_list = list(itertools.product(sizes, depths))\n",
    "    \n",
    "    for hyperparams in hyper_list:\n",
    "        dt = DecisionTreeClassifier( \n",
    "                            criterion='gini',\n",
    "                            min_samples_leaf=hyperparams[0],\n",
    "                            max_depth=hyperparams[1], \n",
    "                            random_state=9751)\n",
    "        dt.fit(X_train, y_train)\n",
    "        preds = dt.predict(X_train)\n",
    "        accuracy_train = dt.score(X_train, y_train)\n",
    "        accuracy_val = dt.score(X_val, y_val)\n",
    "        dt_models[hyperparams] = accuracy_train, accuracy_val\n",
    "   \n",
    "    df = pd.DataFrame([{'hyperparams': k, 'accuracy_train': v[0],\n",
    "                          'accuracy_val': v[1]} for k, v in dt_models.items()])\n",
    "    df['algorithm'] = 'decision_tree'\n",
    "    \n",
    "    return df"
   ]
  },
  {
   "cell_type": "markdown",
   "id": "d06ff996-db16-4253-8547-b32b6bb78991",
   "metadata": {},
   "source": [
    "#### **Algorithm 3: K-Nearest Neighbors(KNN) Classifier:**"
   ]
  },
  {
   "cell_type": "markdown",
   "id": "efa0f961-2d33-4ac4-94a1-64e1fb737122",
   "metadata": {},
   "source": [
    "##### I want to test the KNN classifier for a range of hyperparameters:\n",
    "- n_neighbors = range from 2 - 20 step of 2\n"
   ]
  },
  {
   "cell_type": "code",
   "execution_count": 90,
   "id": "1b4ed5b7-c933-4e97-9611-721459ea3c88",
   "metadata": {},
   "outputs": [],
   "source": [
    "def knn_classification(df, df_val, target, min_n_neighbors=2, max_n_neighbors=20):\n",
    "    '''\n",
    "    Perform KNN classification on the given data.\n",
    "\n",
    "    Args:\n",
    "        df (DataFrame): The training DataFrame containing the feature columns and the \n",
    "        target column.\n",
    "        df_val (DataFrame): The validation (or test) DataFrame containing the feature \n",
    "        columns and the target column.\n",
    "        target (str): The name of the target column.\n",
    "        min_n_neighbors: The minimum number of neighbors to test\n",
    "        max_n_neighbors: The maximum number of neighbors to test\n",
    "    Returns:\n",
    "        DataFrame: A DataFrame containing the combinations of hyperparameters and their \n",
    "        corresponding accuracy scores on the training and validation data. An 'algorithm' \n",
    "        column is added to denote knn.\n",
    "    '''\n",
    "    X_train = df.drop(columns=target)\n",
    "    y_train = df[target]\n",
    "    X_val = df_val.drop(columns=target)\n",
    "    y_val = df_val[target]\n",
    "    \n",
    "    knn_models = {}\n",
    "    hyper_list = range(min_n_neighbors, (max_n_neighbors +1), 2)\n",
    "    \n",
    "    for hyperparams in hyper_list:\n",
    "        knn = KNeighborsClassifier(n_neighbors=hyperparams)\n",
    "        knn.fit(X_train, y_train)\n",
    "        preds = knn.predict(X_train)\n",
    "        accuracy_train = knn.score(X_train, y_train)\n",
    "        accuracy_val = knn.score(X_val, y_val)\n",
    "        knn_models[hyperparams] = accuracy_train, accuracy_val\n",
    "   \n",
    "    df = pd.DataFrame([{'hyperparams': k, 'accuracy_train': v[0],\n",
    "                          'accuracy_val': v[1]} for k, v in knn_models.items()])\n",
    "    df['algorithm'] = 'knn'\n",
    "    \n",
    "    return df"
   ]
  },
  {
   "cell_type": "markdown",
   "id": "6f97227d-ae7b-4d45-813b-2a031d1c962e",
   "metadata": {},
   "source": [
    "#### **Algorithm 4: Naive Bayes Classifier:**"
   ]
  },
  {
   "cell_type": "markdown",
   "id": "212c24af-ffd0-4942-925f-5c714dba25a1",
   "metadata": {},
   "source": [
    "##### I want to test the Naive Bayes classifier for a range of hyperparameters:\n",
    "- alpha = range from 0.1 to 5.0\n"
   ]
  },
  {
   "cell_type": "code",
   "execution_count": 111,
   "id": "ba8aefea-401c-4aae-bfe1-8ea448e30438",
   "metadata": {},
   "outputs": [],
   "source": [
    "def nb_classification(df, df_val, target, min_alpha=0.1, max_alpha=5.0):\n",
    "    '''\n",
    "    Perform Naive Bayes classification on the given data.\n",
    "\n",
    "    Args:\n",
    "        df (DataFrame): The training DataFrame containing the feature columns and the \n",
    "        target column.\n",
    "        df_val (DataFrame): The validation (or test) DataFrame containing the feature \n",
    "        columns and the target column.\n",
    "        target (str): The name of the target column.\n",
    "        min_alpha: The minimum alpha to test\n",
    "        max_alpha: The maximum alpha to test\n",
    "    Returns:\n",
    "        DataFrame: A DataFrame containing the combinations of hyperparameters and their \n",
    "        corresponding accuracy scores on the training and validation data. An 'algorithm' \n",
    "        column is added to denote naive_bayes.\n",
    "    '''\n",
    "    X_train = df.drop(columns=target)\n",
    "    y_train = df[target]\n",
    "    X_val = df_val.drop(columns=target)\n",
    "    y_val = df_val[target]\n",
    "    \n",
    "    nb_models = {}\n",
    "    hyperparams = 'default'\n",
    "    nb = MultinomialNB()\n",
    "    nb.fit(X_train, y_train)\n",
    "    preds = nb.predict(X_train)\n",
    "    accuracy_train = nb.score(X_train, y_train)\n",
    "    accuracy_val = nb.score(X_val, y_val)\n",
    "    nb_models[hyperparams] = accuracy_train, accuracy_val\n",
    "   \n",
    "    df = pd.DataFrame([{'hyperparams': k, 'accuracy_train': v[0],\n",
    "                          'accuracy_val': v[1]} for k, v in nb_models.items()])\n",
    "    df['algorithm'] = 'Multinomial_naive_bayes'\n",
    "    \n",
    "    return df"
   ]
  },
  {
   "cell_type": "code",
   "execution_count": 64,
   "id": "4f92504d-749b-44cd-9fe6-6eda1b181ead",
   "metadata": {},
   "outputs": [],
   "source": [
    "from pydataset import data\n",
    "df = data('iris')"
   ]
  },
  {
   "cell_type": "code",
   "execution_count": 65,
   "id": "dc8632ef-6e30-4a7c-983c-f7cc68b53317",
   "metadata": {},
   "outputs": [
    {
     "data": {
      "text/html": [
       "<div>\n",
       "<style scoped>\n",
       "    .dataframe tbody tr th:only-of-type {\n",
       "        vertical-align: middle;\n",
       "    }\n",
       "\n",
       "    .dataframe tbody tr th {\n",
       "        vertical-align: top;\n",
       "    }\n",
       "\n",
       "    .dataframe thead th {\n",
       "        text-align: right;\n",
       "    }\n",
       "</style>\n",
       "<table border=\"1\" class=\"dataframe\">\n",
       "  <thead>\n",
       "    <tr style=\"text-align: right;\">\n",
       "      <th></th>\n",
       "      <th>Sepal.Length</th>\n",
       "      <th>Sepal.Width</th>\n",
       "      <th>Petal.Length</th>\n",
       "      <th>Petal.Width</th>\n",
       "      <th>Species</th>\n",
       "    </tr>\n",
       "  </thead>\n",
       "  <tbody>\n",
       "    <tr>\n",
       "      <th>1</th>\n",
       "      <td>5.1</td>\n",
       "      <td>3.5</td>\n",
       "      <td>1.4</td>\n",
       "      <td>0.2</td>\n",
       "      <td>setosa</td>\n",
       "    </tr>\n",
       "    <tr>\n",
       "      <th>2</th>\n",
       "      <td>4.9</td>\n",
       "      <td>3.0</td>\n",
       "      <td>1.4</td>\n",
       "      <td>0.2</td>\n",
       "      <td>setosa</td>\n",
       "    </tr>\n",
       "    <tr>\n",
       "      <th>3</th>\n",
       "      <td>4.7</td>\n",
       "      <td>3.2</td>\n",
       "      <td>1.3</td>\n",
       "      <td>0.2</td>\n",
       "      <td>setosa</td>\n",
       "    </tr>\n",
       "    <tr>\n",
       "      <th>4</th>\n",
       "      <td>4.6</td>\n",
       "      <td>3.1</td>\n",
       "      <td>1.5</td>\n",
       "      <td>0.2</td>\n",
       "      <td>setosa</td>\n",
       "    </tr>\n",
       "    <tr>\n",
       "      <th>5</th>\n",
       "      <td>5.0</td>\n",
       "      <td>3.6</td>\n",
       "      <td>1.4</td>\n",
       "      <td>0.2</td>\n",
       "      <td>setosa</td>\n",
       "    </tr>\n",
       "  </tbody>\n",
       "</table>\n",
       "</div>"
      ],
      "text/plain": [
       "   Sepal.Length  Sepal.Width  Petal.Length  Petal.Width Species\n",
       "1           5.1          3.5           1.4          0.2  setosa\n",
       "2           4.9          3.0           1.4          0.2  setosa\n",
       "3           4.7          3.2           1.3          0.2  setosa\n",
       "4           4.6          3.1           1.5          0.2  setosa\n",
       "5           5.0          3.6           1.4          0.2  setosa"
      ]
     },
     "execution_count": 65,
     "metadata": {},
     "output_type": "execute_result"
    }
   ],
   "source": [
    "df.head()"
   ]
  },
  {
   "cell_type": "code",
   "execution_count": 66,
   "id": "fd7b17f8-eeee-4f2f-8939-e7ccca3842cb",
   "metadata": {},
   "outputs": [],
   "source": [
    "from sklearn.model_selection import train_test_split"
   ]
  },
  {
   "cell_type": "code",
   "execution_count": 67,
   "id": "4df84677-b8d6-479d-9a3b-9791590ceeac",
   "metadata": {},
   "outputs": [],
   "source": [
    "train, test = train_test_split(df, train_size=.7, stratify=df['Species'])"
   ]
  },
  {
   "cell_type": "code",
   "execution_count": 68,
   "id": "1a1c3c41-397e-403b-bfc3-ab0a58e0629a",
   "metadata": {},
   "outputs": [
    {
     "data": {
      "text/html": [
       "<div>\n",
       "<style scoped>\n",
       "    .dataframe tbody tr th:only-of-type {\n",
       "        vertical-align: middle;\n",
       "    }\n",
       "\n",
       "    .dataframe tbody tr th {\n",
       "        vertical-align: top;\n",
       "    }\n",
       "\n",
       "    .dataframe thead th {\n",
       "        text-align: right;\n",
       "    }\n",
       "</style>\n",
       "<table border=\"1\" class=\"dataframe\">\n",
       "  <thead>\n",
       "    <tr style=\"text-align: right;\">\n",
       "      <th></th>\n",
       "      <th>Sepal.Length</th>\n",
       "      <th>Sepal.Width</th>\n",
       "      <th>Petal.Length</th>\n",
       "      <th>Petal.Width</th>\n",
       "      <th>Species</th>\n",
       "    </tr>\n",
       "  </thead>\n",
       "  <tbody>\n",
       "    <tr>\n",
       "      <th>79</th>\n",
       "      <td>6.0</td>\n",
       "      <td>2.9</td>\n",
       "      <td>4.5</td>\n",
       "      <td>1.5</td>\n",
       "      <td>versicolor</td>\n",
       "    </tr>\n",
       "    <tr>\n",
       "      <th>8</th>\n",
       "      <td>5.0</td>\n",
       "      <td>3.4</td>\n",
       "      <td>1.5</td>\n",
       "      <td>0.2</td>\n",
       "      <td>setosa</td>\n",
       "    </tr>\n",
       "    <tr>\n",
       "      <th>111</th>\n",
       "      <td>6.5</td>\n",
       "      <td>3.2</td>\n",
       "      <td>5.1</td>\n",
       "      <td>2.0</td>\n",
       "      <td>virginica</td>\n",
       "    </tr>\n",
       "    <tr>\n",
       "      <th>4</th>\n",
       "      <td>4.6</td>\n",
       "      <td>3.1</td>\n",
       "      <td>1.5</td>\n",
       "      <td>0.2</td>\n",
       "      <td>setosa</td>\n",
       "    </tr>\n",
       "    <tr>\n",
       "      <th>123</th>\n",
       "      <td>7.7</td>\n",
       "      <td>2.8</td>\n",
       "      <td>6.7</td>\n",
       "      <td>2.0</td>\n",
       "      <td>virginica</td>\n",
       "    </tr>\n",
       "  </tbody>\n",
       "</table>\n",
       "</div>"
      ],
      "text/plain": [
       "     Sepal.Length  Sepal.Width  Petal.Length  Petal.Width     Species\n",
       "79            6.0          2.9           4.5          1.5  versicolor\n",
       "8             5.0          3.4           1.5          0.2      setosa\n",
       "111           6.5          3.2           5.1          2.0   virginica\n",
       "4             4.6          3.1           1.5          0.2      setosa\n",
       "123           7.7          2.8           6.7          2.0   virginica"
      ]
     },
     "execution_count": 68,
     "metadata": {},
     "output_type": "execute_result"
    }
   ],
   "source": [
    "train.head()"
   ]
  },
  {
   "cell_type": "code",
   "execution_count": 69,
   "id": "260544a4-adb7-4a47-95c6-11f0f2ecf818",
   "metadata": {},
   "outputs": [],
   "source": [
    "rf_model_performance = rf_classification(train, test, 'Species')"
   ]
  },
  {
   "cell_type": "code",
   "execution_count": 96,
   "id": "14c1ecfe-231b-4a0d-b751-9057b7a8fdc1",
   "metadata": {
    "tags": []
   },
   "outputs": [
    {
     "data": {
      "text/html": [
       "<div>\n",
       "<style scoped>\n",
       "    .dataframe tbody tr th:only-of-type {\n",
       "        vertical-align: middle;\n",
       "    }\n",
       "\n",
       "    .dataframe tbody tr th {\n",
       "        vertical-align: top;\n",
       "    }\n",
       "\n",
       "    .dataframe thead th {\n",
       "        text-align: right;\n",
       "    }\n",
       "</style>\n",
       "<table border=\"1\" class=\"dataframe\">\n",
       "  <thead>\n",
       "    <tr style=\"text-align: right;\">\n",
       "      <th></th>\n",
       "      <th>hyperparams</th>\n",
       "      <th>accuracy_train</th>\n",
       "      <th>accuracy_val</th>\n",
       "      <th>algorithm</th>\n",
       "    </tr>\n",
       "  </thead>\n",
       "  <tbody>\n",
       "    <tr>\n",
       "      <th>92</th>\n",
       "      <td>(False, 2, 3)</td>\n",
       "      <td>0.980952</td>\n",
       "      <td>0.977778</td>\n",
       "      <td>random_forest</td>\n",
       "    </tr>\n",
       "    <tr>\n",
       "      <th>116</th>\n",
       "      <td>(False, 4, 9)</td>\n",
       "      <td>0.980952</td>\n",
       "      <td>0.977778</td>\n",
       "      <td>random_forest</td>\n",
       "    </tr>\n",
       "    <tr>\n",
       "      <th>94</th>\n",
       "      <td>(False, 2, 5)</td>\n",
       "      <td>0.980952</td>\n",
       "      <td>0.977778</td>\n",
       "      <td>random_forest</td>\n",
       "    </tr>\n",
       "    <tr>\n",
       "      <th>95</th>\n",
       "      <td>(False, 2, 6)</td>\n",
       "      <td>0.980952</td>\n",
       "      <td>0.977778</td>\n",
       "      <td>random_forest</td>\n",
       "    </tr>\n",
       "    <tr>\n",
       "      <th>96</th>\n",
       "      <td>(False, 2, 7)</td>\n",
       "      <td>0.980952</td>\n",
       "      <td>0.977778</td>\n",
       "      <td>random_forest</td>\n",
       "    </tr>\n",
       "    <tr>\n",
       "      <th>97</th>\n",
       "      <td>(False, 2, 8)</td>\n",
       "      <td>0.980952</td>\n",
       "      <td>0.977778</td>\n",
       "      <td>random_forest</td>\n",
       "    </tr>\n",
       "    <tr>\n",
       "      <th>98</th>\n",
       "      <td>(False, 2, 9)</td>\n",
       "      <td>0.980952</td>\n",
       "      <td>0.977778</td>\n",
       "      <td>random_forest</td>\n",
       "    </tr>\n",
       "    <tr>\n",
       "      <th>101</th>\n",
       "      <td>(False, 3, 3)</td>\n",
       "      <td>0.971429</td>\n",
       "      <td>0.977778</td>\n",
       "      <td>random_forest</td>\n",
       "    </tr>\n",
       "    <tr>\n",
       "      <th>102</th>\n",
       "      <td>(False, 3, 4)</td>\n",
       "      <td>0.971429</td>\n",
       "      <td>0.977778</td>\n",
       "      <td>random_forest</td>\n",
       "    </tr>\n",
       "    <tr>\n",
       "      <th>103</th>\n",
       "      <td>(False, 3, 5)</td>\n",
       "      <td>0.971429</td>\n",
       "      <td>0.977778</td>\n",
       "      <td>random_forest</td>\n",
       "    </tr>\n",
       "  </tbody>\n",
       "</table>\n",
       "</div>"
      ],
      "text/plain": [
       "       hyperparams  accuracy_train  accuracy_val      algorithm\n",
       "92   (False, 2, 3)        0.980952      0.977778  random_forest\n",
       "116  (False, 4, 9)        0.980952      0.977778  random_forest\n",
       "94   (False, 2, 5)        0.980952      0.977778  random_forest\n",
       "95   (False, 2, 6)        0.980952      0.977778  random_forest\n",
       "96   (False, 2, 7)        0.980952      0.977778  random_forest\n",
       "97   (False, 2, 8)        0.980952      0.977778  random_forest\n",
       "98   (False, 2, 9)        0.980952      0.977778  random_forest\n",
       "101  (False, 3, 3)        0.971429      0.977778  random_forest\n",
       "102  (False, 3, 4)        0.971429      0.977778  random_forest\n",
       "103  (False, 3, 5)        0.971429      0.977778  random_forest"
      ]
     },
     "execution_count": 96,
     "metadata": {},
     "output_type": "execute_result"
    }
   ],
   "source": [
    "rf_model_performance.sort_values('accuracy_val', ascending = False).head(10)"
   ]
  },
  {
   "cell_type": "code",
   "execution_count": 71,
   "id": "c6ae5366-8ef1-4661-8008-4ee472e79d7d",
   "metadata": {},
   "outputs": [
    {
     "data": {
      "text/plain": [
       "hyperparams        (True, 9, 9)\n",
       "accuracy_train              1.0\n",
       "accuracy_val           0.977778\n",
       "algorithm         random_forest\n",
       "dtype: object"
      ]
     },
     "execution_count": 71,
     "metadata": {},
     "output_type": "execute_result"
    }
   ],
   "source": [
    "rf_model_performance.sort_values('accuracy_val', ascending=False).max()"
   ]
  },
  {
   "cell_type": "code",
   "execution_count": 72,
   "id": "d41cebc4-9a4f-4157-a574-697e0d895751",
   "metadata": {},
   "outputs": [],
   "source": [
    "dt_model_performance = dt_classification(train, test, 'Species')"
   ]
  },
  {
   "cell_type": "code",
   "execution_count": 73,
   "id": "68721362-0fa3-4bd3-b888-9b7d142e28b4",
   "metadata": {},
   "outputs": [
    {
     "data": {
      "text/html": [
       "<div>\n",
       "<style scoped>\n",
       "    .dataframe tbody tr th:only-of-type {\n",
       "        vertical-align: middle;\n",
       "    }\n",
       "\n",
       "    .dataframe tbody tr th {\n",
       "        vertical-align: top;\n",
       "    }\n",
       "\n",
       "    .dataframe thead th {\n",
       "        text-align: right;\n",
       "    }\n",
       "</style>\n",
       "<table border=\"1\" class=\"dataframe\">\n",
       "  <thead>\n",
       "    <tr style=\"text-align: right;\">\n",
       "      <th></th>\n",
       "      <th>hyperparams</th>\n",
       "      <th>accuracy_train</th>\n",
       "      <th>accuracy_val</th>\n",
       "      <th>algorithm</th>\n",
       "    </tr>\n",
       "  </thead>\n",
       "  <tbody>\n",
       "    <tr>\n",
       "      <th>0</th>\n",
       "      <td>(1, 1)</td>\n",
       "      <td>0.666667</td>\n",
       "      <td>0.666667</td>\n",
       "      <td>decision_tree</td>\n",
       "    </tr>\n",
       "    <tr>\n",
       "      <th>1</th>\n",
       "      <td>(1, 2)</td>\n",
       "      <td>0.961905</td>\n",
       "      <td>0.955556</td>\n",
       "      <td>decision_tree</td>\n",
       "    </tr>\n",
       "    <tr>\n",
       "      <th>2</th>\n",
       "      <td>(1, 3)</td>\n",
       "      <td>0.980952</td>\n",
       "      <td>0.977778</td>\n",
       "      <td>decision_tree</td>\n",
       "    </tr>\n",
       "    <tr>\n",
       "      <th>3</th>\n",
       "      <td>(1, 4)</td>\n",
       "      <td>0.990476</td>\n",
       "      <td>0.955556</td>\n",
       "      <td>decision_tree</td>\n",
       "    </tr>\n",
       "    <tr>\n",
       "      <th>4</th>\n",
       "      <td>(1, 5)</td>\n",
       "      <td>1.000000</td>\n",
       "      <td>0.955556</td>\n",
       "      <td>decision_tree</td>\n",
       "    </tr>\n",
       "  </tbody>\n",
       "</table>\n",
       "</div>"
      ],
      "text/plain": [
       "  hyperparams  accuracy_train  accuracy_val      algorithm\n",
       "0      (1, 1)        0.666667      0.666667  decision_tree\n",
       "1      (1, 2)        0.961905      0.955556  decision_tree\n",
       "2      (1, 3)        0.980952      0.977778  decision_tree\n",
       "3      (1, 4)        0.990476      0.955556  decision_tree\n",
       "4      (1, 5)        1.000000      0.955556  decision_tree"
      ]
     },
     "execution_count": 73,
     "metadata": {},
     "output_type": "execute_result"
    }
   ],
   "source": [
    "dt_model_performance.head()"
   ]
  },
  {
   "cell_type": "code",
   "execution_count": 74,
   "id": "cd9725ee-eb9b-4ab2-af01-9234edb4e5aa",
   "metadata": {},
   "outputs": [
    {
     "data": {
      "text/plain": [
       "hyperparams              (9, 9)\n",
       "accuracy_train              1.0\n",
       "accuracy_val           0.977778\n",
       "algorithm         decision_tree\n",
       "dtype: object"
      ]
     },
     "execution_count": 74,
     "metadata": {},
     "output_type": "execute_result"
    }
   ],
   "source": [
    "dt_model_performance.sort_values('accuracy_val', ascending=False).max()"
   ]
  },
  {
   "cell_type": "code",
   "execution_count": 91,
   "id": "dd1a03e2-bc3a-4915-b1f5-6d9cc4cf1d4c",
   "metadata": {},
   "outputs": [],
   "source": [
    "knn_model_performance = knn_classification(train, test, 'Species')"
   ]
  },
  {
   "cell_type": "code",
   "execution_count": 93,
   "id": "4e09e3b9-3ea7-4547-a6b7-0fcf73f98f84",
   "metadata": {},
   "outputs": [
    {
     "data": {
      "text/html": [
       "<div>\n",
       "<style scoped>\n",
       "    .dataframe tbody tr th:only-of-type {\n",
       "        vertical-align: middle;\n",
       "    }\n",
       "\n",
       "    .dataframe tbody tr th {\n",
       "        vertical-align: top;\n",
       "    }\n",
       "\n",
       "    .dataframe thead th {\n",
       "        text-align: right;\n",
       "    }\n",
       "</style>\n",
       "<table border=\"1\" class=\"dataframe\">\n",
       "  <thead>\n",
       "    <tr style=\"text-align: right;\">\n",
       "      <th></th>\n",
       "      <th>hyperparams</th>\n",
       "      <th>accuracy_train</th>\n",
       "      <th>accuracy_val</th>\n",
       "      <th>algorithm</th>\n",
       "    </tr>\n",
       "  </thead>\n",
       "  <tbody>\n",
       "    <tr>\n",
       "      <th>1</th>\n",
       "      <td>4</td>\n",
       "      <td>0.971429</td>\n",
       "      <td>0.977778</td>\n",
       "      <td>knn</td>\n",
       "    </tr>\n",
       "    <tr>\n",
       "      <th>3</th>\n",
       "      <td>8</td>\n",
       "      <td>0.971429</td>\n",
       "      <td>0.977778</td>\n",
       "      <td>knn</td>\n",
       "    </tr>\n",
       "    <tr>\n",
       "      <th>4</th>\n",
       "      <td>10</td>\n",
       "      <td>0.971429</td>\n",
       "      <td>0.977778</td>\n",
       "      <td>knn</td>\n",
       "    </tr>\n",
       "    <tr>\n",
       "      <th>5</th>\n",
       "      <td>12</td>\n",
       "      <td>0.971429</td>\n",
       "      <td>0.977778</td>\n",
       "      <td>knn</td>\n",
       "    </tr>\n",
       "    <tr>\n",
       "      <th>8</th>\n",
       "      <td>18</td>\n",
       "      <td>0.971429</td>\n",
       "      <td>0.977778</td>\n",
       "      <td>knn</td>\n",
       "    </tr>\n",
       "    <tr>\n",
       "      <th>0</th>\n",
       "      <td>2</td>\n",
       "      <td>0.971429</td>\n",
       "      <td>0.955556</td>\n",
       "      <td>knn</td>\n",
       "    </tr>\n",
       "    <tr>\n",
       "      <th>2</th>\n",
       "      <td>6</td>\n",
       "      <td>0.980952</td>\n",
       "      <td>0.955556</td>\n",
       "      <td>knn</td>\n",
       "    </tr>\n",
       "    <tr>\n",
       "      <th>6</th>\n",
       "      <td>14</td>\n",
       "      <td>0.971429</td>\n",
       "      <td>0.955556</td>\n",
       "      <td>knn</td>\n",
       "    </tr>\n",
       "    <tr>\n",
       "      <th>7</th>\n",
       "      <td>16</td>\n",
       "      <td>0.971429</td>\n",
       "      <td>0.955556</td>\n",
       "      <td>knn</td>\n",
       "    </tr>\n",
       "    <tr>\n",
       "      <th>9</th>\n",
       "      <td>20</td>\n",
       "      <td>0.971429</td>\n",
       "      <td>0.955556</td>\n",
       "      <td>knn</td>\n",
       "    </tr>\n",
       "  </tbody>\n",
       "</table>\n",
       "</div>"
      ],
      "text/plain": [
       "   hyperparams  accuracy_train  accuracy_val algorithm\n",
       "1            4        0.971429      0.977778       knn\n",
       "3            8        0.971429      0.977778       knn\n",
       "4           10        0.971429      0.977778       knn\n",
       "5           12        0.971429      0.977778       knn\n",
       "8           18        0.971429      0.977778       knn\n",
       "0            2        0.971429      0.955556       knn\n",
       "2            6        0.980952      0.955556       knn\n",
       "6           14        0.971429      0.955556       knn\n",
       "7           16        0.971429      0.955556       knn\n",
       "9           20        0.971429      0.955556       knn"
      ]
     },
     "execution_count": 93,
     "metadata": {},
     "output_type": "execute_result"
    }
   ],
   "source": [
    "knn_model_performance.sort_values('accuracy_val', ascending=False).head(10)"
   ]
  },
  {
   "cell_type": "code",
   "execution_count": 112,
   "id": "e349807f-542b-4328-952a-df9e5104dfd6",
   "metadata": {},
   "outputs": [],
   "source": [
    "nb_model_performance = nb_classification(train, test, 'Species')"
   ]
  },
  {
   "cell_type": "code",
   "execution_count": 113,
   "id": "811a10fe-9f26-4834-9262-c1b1e6465204",
   "metadata": {},
   "outputs": [
    {
     "data": {
      "text/html": [
       "<div>\n",
       "<style scoped>\n",
       "    .dataframe tbody tr th:only-of-type {\n",
       "        vertical-align: middle;\n",
       "    }\n",
       "\n",
       "    .dataframe tbody tr th {\n",
       "        vertical-align: top;\n",
       "    }\n",
       "\n",
       "    .dataframe thead th {\n",
       "        text-align: right;\n",
       "    }\n",
       "</style>\n",
       "<table border=\"1\" class=\"dataframe\">\n",
       "  <thead>\n",
       "    <tr style=\"text-align: right;\">\n",
       "      <th></th>\n",
       "      <th>hyperparams</th>\n",
       "      <th>accuracy_train</th>\n",
       "      <th>accuracy_val</th>\n",
       "      <th>algorithm</th>\n",
       "    </tr>\n",
       "  </thead>\n",
       "  <tbody>\n",
       "    <tr>\n",
       "      <th>0</th>\n",
       "      <td>default</td>\n",
       "      <td>0.952381</td>\n",
       "      <td>0.955556</td>\n",
       "      <td>naive_bayes</td>\n",
       "    </tr>\n",
       "  </tbody>\n",
       "</table>\n",
       "</div>"
      ],
      "text/plain": [
       "  hyperparams  accuracy_train  accuracy_val    algorithm\n",
       "0     default        0.952381      0.955556  naive_bayes"
      ]
     },
     "execution_count": 113,
     "metadata": {},
     "output_type": "execute_result"
    }
   ],
   "source": [
    "nb_model_performance"
   ]
  },
  {
   "cell_type": "code",
   "execution_count": null,
   "id": "579c9b2b-8952-4ad1-a763-1e8b1f0aaba5",
   "metadata": {},
   "outputs": [],
   "source": [
    "# ComplementNB(*, alpha=1.0)"
   ]
  },
  {
   "cell_type": "code",
   "execution_count": null,
   "id": "c8c78ef9-32c3-4845-a846-40da1ba43d9c",
   "metadata": {},
   "outputs": [],
   "source": [
    "# MultinomialNB(*, alpha=1.0, force_alpha='warn', fit_prior=True, class_prior=None)"
   ]
  },
  {
   "cell_type": "code",
   "execution_count": null,
   "id": "626b3c79-ddac-45a0-9aef-bb5a0b96117c",
   "metadata": {},
   "outputs": [],
   "source": []
  }
 ],
 "metadata": {
  "kernelspec": {
   "display_name": "Python 3 (ipykernel)",
   "language": "python",
   "name": "python3"
  },
  "language_info": {
   "codemirror_mode": {
    "name": "ipython",
    "version": 3
   },
   "file_extension": ".py",
   "mimetype": "text/x-python",
   "name": "python",
   "nbconvert_exporter": "python",
   "pygments_lexer": "ipython3",
   "version": "3.9.13"
  }
 },
 "nbformat": 4,
 "nbformat_minor": 5
}
