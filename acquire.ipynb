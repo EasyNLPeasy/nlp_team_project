{
 "cells": [
  {
   "cell_type": "markdown",
   "id": "9aef9285-11e9-4f71-b799-8ed56270b41b",
   "metadata": {},
   "source": [
    "# Acquire (Web Scraping)"
   ]
  },
  {
   "cell_type": "code",
   "execution_count": 1,
   "id": "14d1e5e3-b926-4734-aa0b-d7901a1f239d",
   "metadata": {},
   "outputs": [],
   "source": [
    "# general imports\n",
    "import numpy as np\n",
    "import pandas as pd\n",
    "import re\n",
    "import itertools\n",
    "\n",
    "# for webscraping\n",
    "from requests import get\n",
    "from bs4 import BeautifulSoup\n",
    "import time\n",
    "\n",
    "# local modules\n",
    "import acquire as a\n",
    "from env import github_token, github_username"
   ]
  },
  {
   "cell_type": "markdown",
   "id": "5f3a4b6a-5b6d-4756-ba6a-1a0e679bcae4",
   "metadata": {},
   "source": [
    "1. Import the get() function from the requests module, BeautifulSoup from bs4, and pandas.\n",
    "2. Assign the address of the web page to a variable named url.\n",
    "3. Request the server the content of the web page by using get(), and store the server’s response in the variable response.\n",
    "4. Print the response text to ensure you have an html page.\n",
    "5. Take a look at the actual web page contents and inspect the source to understand the structure a bit.\n",
    "6. Use BeautifulSoup to parse the HTML into a variable ('soup').\n",
    "7. Identify the key tags you need to extract the data you are looking for.\n",
    "8. Create a dataframe of the data desired.\n",
    "9. Run some summary stats and inspect the data to ensure you have what you wanted.\n",
    "10. Edit the data structure as needed, especially so that **one column has all the text you want included in this analysis**.\n",
    "11. Create a corpus of the column with the text you want to analyze.\n",
    "12. Store that corpus for use in a future notebook."
   ]
  },
  {
   "cell_type": "code",
   "execution_count": 2,
   "id": "cba5ee43-5104-4147-8802-932d374996dd",
   "metadata": {
    "tags": []
   },
   "outputs": [],
   "source": [
    "def get_urls():\n",
    "    '''\n",
    "    This function queries github and returns a list of the\n",
    "    trending repository for the day, week, and month for each of\n",
    "    the following languages: python, javascript, rust\n",
    "    \n",
    "    Arguments: None\n",
    "    \n",
    "    Returns: A python list of urls of repositories formatted for github rest api calls.\n",
    "    '''\n",
    "    # establish an empty list for repo urls\n",
    "    REPOS = []\n",
    "    # establish the programming languages to be queried\n",
    "    languages = ['python', 'javascript', 'rust']\n",
    "    # establish the periods to be queried\n",
    "    periods = ['daily', 'weekly', 'monthly']\n",
    "    # generate a list of tuples of all the combinations of language and period\n",
    "    combinations = list(itertools.product(languages, periods))\n",
    "    # create list of base_page urls \n",
    "    base_pages = [\n",
    "        f'https://github.com/trending/{combination[0]}?since={combination[1]}&spoken_language_code=en'\n",
    "        for combination in combinations]\n",
    "    headers = {\"Authorization\": f\"token {github_token}\", \"User-Agent\": github_username}\n",
    "    # request daily trending repos\n",
    "    for page in base_pages:\n",
    "        response = get(page, headers=headers)\n",
    "        # print response\n",
    "        print(response)\n",
    "        # if response code is 2xx then parse with beautiful soup and add hrefs of repos to REPOS\n",
    "        if response.status_code // 100 == 2:\n",
    "            soup = BeautifulSoup(response.content, 'html.parser')\n",
    "            urls = soup.find_all('h2')\n",
    "            [REPOS.append('.' + url.find('a')['href']) for url in urls if url.find('a') is not None]\n",
    "            print(len(REPOS))\n",
    "            print(REPOS)\n",
    "            time.sleep(15)  # pause for 15 seconds between requests\n",
    "        # if response code is not 2xx then print 'there was a response error'\n",
    "        else:\n",
    "            print('There was a response error')\n",
    "    return list(set(REPOS))\n",
    "        \n"
   ]
  },
  {
   "cell_type": "code",
   "execution_count": 3,
   "id": "93af5696-b52b-4b70-8b2b-d0ff7df504fa",
   "metadata": {
    "tags": []
   },
   "outputs": [],
   "source": [
    "# urls = get_urls()"
   ]
  },
  {
   "cell_type": "code",
   "execution_count": 4,
   "id": "fd4d11aa-7868-4354-a628-27eb44601c75",
   "metadata": {},
   "outputs": [],
   "source": [
    "# len(urls)"
   ]
  },
  {
   "cell_type": "code",
   "execution_count": 5,
   "id": "0de9a57e-9913-450a-8db1-bcce36edf37a",
   "metadata": {
    "tags": []
   },
   "outputs": [],
   "source": [
    "# print(urls)"
   ]
  },
  {
   "cell_type": "code",
   "execution_count": 6,
   "id": "e63d2fca-9ff3-4d7d-a7a3-1da7fd617576",
   "metadata": {
    "tags": []
   },
   "outputs": [],
   "source": [
    "df = pd.DataFrame(a.scrape_github_data())"
   ]
  },
  {
   "cell_type": "code",
   "execution_count": 9,
   "id": "0b753f4c-a5a5-4e69-b3f7-59f9bc5afbc9",
   "metadata": {},
   "outputs": [
    {
     "data": {
      "text/html": [
       "<div>\n",
       "<style scoped>\n",
       "    .dataframe tbody tr th:only-of-type {\n",
       "        vertical-align: middle;\n",
       "    }\n",
       "\n",
       "    .dataframe tbody tr th {\n",
       "        vertical-align: top;\n",
       "    }\n",
       "\n",
       "    .dataframe thead th {\n",
       "        text-align: right;\n",
       "    }\n",
       "</style>\n",
       "<table border=\"1\" class=\"dataframe\">\n",
       "  <thead>\n",
       "    <tr style=\"text-align: right;\">\n",
       "      <th></th>\n",
       "      <th>repo</th>\n",
       "      <th>language</th>\n",
       "      <th>readme_contents</th>\n",
       "    </tr>\n",
       "  </thead>\n",
       "  <tbody>\n",
       "    <tr>\n",
       "      <th>0</th>\n",
       "      <td>./WebGoat/WebGoat</td>\n",
       "      <td>JavaScript</td>\n",
       "      <td># WebGoat 8: A deliberately insecure Web Appli...</td>\n",
       "    </tr>\n",
       "    <tr>\n",
       "      <th>1</th>\n",
       "      <td>./vercel/next-react-server-components</td>\n",
       "      <td>JavaScript</td>\n",
       "      <td># Next.js App Router + React Server Components...</td>\n",
       "    </tr>\n",
       "    <tr>\n",
       "      <th>2</th>\n",
       "      <td>./LaurentMazare/tch-rs</td>\n",
       "      <td>Rust</td>\n",
       "      <td># tch-rs\\nRust bindings for the C++ api of PyT...</td>\n",
       "    </tr>\n",
       "    <tr>\n",
       "      <th>3</th>\n",
       "      <td>./ultralytics/yolov5</td>\n",
       "      <td>Python</td>\n",
       "      <td>&lt;div align=\"center\"&gt;\\n  &lt;p&gt;\\n    &lt;a align=\"cen...</td>\n",
       "    </tr>\n",
       "    <tr>\n",
       "      <th>4</th>\n",
       "      <td>./FastForwardTeam/FastForward</td>\n",
       "      <td>JavaScript</td>\n",
       "      <td>&lt;div align=\"center\"&gt;\\n&lt;img src=\"https://avatar...</td>\n",
       "    </tr>\n",
       "  </tbody>\n",
       "</table>\n",
       "</div>"
      ],
      "text/plain": [
       "                                    repo    language  \\\n",
       "0                      ./WebGoat/WebGoat  JavaScript   \n",
       "1  ./vercel/next-react-server-components  JavaScript   \n",
       "2                 ./LaurentMazare/tch-rs        Rust   \n",
       "3                   ./ultralytics/yolov5      Python   \n",
       "4          ./FastForwardTeam/FastForward  JavaScript   \n",
       "\n",
       "                                     readme_contents  \n",
       "0  # WebGoat 8: A deliberately insecure Web Appli...  \n",
       "1  # Next.js App Router + React Server Components...  \n",
       "2  # tch-rs\\nRust bindings for the C++ api of PyT...  \n",
       "3  <div align=\"center\">\\n  <p>\\n    <a align=\"cen...  \n",
       "4  <div align=\"center\">\\n<img src=\"https://avatar...  "
      ]
     },
     "execution_count": 9,
     "metadata": {},
     "output_type": "execute_result"
    }
   ],
   "source": [
    "df.head()"
   ]
  },
  {
   "cell_type": "code",
   "execution_count": 8,
   "id": "c86655b6-d231-4688-aae1-95f175aca248",
   "metadata": {},
   "outputs": [
    {
     "name": "stdout",
     "output_type": "stream",
     "text": [
      "<class 'pandas.core.frame.DataFrame'>\n",
      "RangeIndex: 164 entries, 0 to 163\n",
      "Data columns (total 3 columns):\n",
      " #   Column           Non-Null Count  Dtype \n",
      "---  ------           --------------  ----- \n",
      " 0   repo             164 non-null    object\n",
      " 1   language         164 non-null    object\n",
      " 2   readme_contents  164 non-null    object\n",
      "dtypes: object(3)\n",
      "memory usage: 4.0+ KB\n"
     ]
    }
   ],
   "source": [
    "df.info()"
   ]
  },
  {
   "cell_type": "code",
   "execution_count": 11,
   "id": "07cfbb55-f792-4162-88bd-eca02807fa4c",
   "metadata": {},
   "outputs": [],
   "source": [
    "df.to_csv('repos.csv')"
   ]
  },
  {
   "cell_type": "code",
   "execution_count": 12,
   "id": "136161dc-df93-4e3b-aa65-d825f20c43bd",
   "metadata": {},
   "outputs": [
    {
     "data": {
      "text/plain": [
       "Python        58\n",
       "JavaScript    56\n",
       "Rust          50\n",
       "Name: language, dtype: int64"
      ]
     },
     "execution_count": 12,
     "metadata": {},
     "output_type": "execute_result"
    }
   ],
   "source": [
    "df.language.value_counts()"
   ]
  },
  {
   "cell_type": "code",
   "execution_count": null,
   "id": "cbdd48d0-d7d1-4c72-a850-e7fa3391b0ba",
   "metadata": {},
   "outputs": [],
   "source": []
  }
 ],
 "metadata": {
  "kernelspec": {
   "display_name": "Python 3 (ipykernel)",
   "language": "python",
   "name": "python3"
  },
  "language_info": {
   "codemirror_mode": {
    "name": "ipython",
    "version": 3
   },
   "file_extension": ".py",
   "mimetype": "text/x-python",
   "name": "python",
   "nbconvert_exporter": "python",
   "pygments_lexer": "ipython3",
   "version": "3.9.13"
  }
 },
 "nbformat": 4,
 "nbformat_minor": 5
}
